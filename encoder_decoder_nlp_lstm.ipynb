{
  "nbformat": 4,
  "nbformat_minor": 0,
  "metadata": {
    "colab": {
      "name": "encoder_decoder_nlp_lstm",
      "provenance": []
    },
    "kernelspec": {
      "name": "python3",
      "display_name": "Python 3"
    },
    "language_info": {
      "name": "python"
    },
    "accelerator": "GPU"
  },
  "cells": [
    {
      "cell_type": "markdown",
      "metadata": {
        "id": "fJ7iSL1-qUyw"
      },
      "source": [
        "This notebook is inspired from https://keras.io/examples/nlp/lstm_seq2seq/"
      ]
    },
    {
      "cell_type": "code",
      "metadata": {
        "id": "axkLdBuaj6FR"
      },
      "source": [
        "import numpy as np\n",
        "import tensorflow as tf\n",
        "from tensorflow import keras"
      ],
      "execution_count": 2,
      "outputs": []
    },
    {
      "cell_type": "code",
      "metadata": {
        "colab": {
          "base_uri": "https://localhost:8080/"
        },
        "id": "OAXug-3ZkVPV",
        "outputId": "648ce261-1dc5-49bf-c182-ed327161ba96"
      },
      "source": [
        "!!curl -O http://www.manythings.org/anki/fra-eng.zip\n",
        "!!unzip fra-eng.zip"
      ],
      "execution_count": 3,
      "outputs": [
        {
          "output_type": "execute_result",
          "data": {
            "text/plain": [
              "['Archive:  fra-eng.zip',\n",
              " '  inflating: _about.txt              ',\n",
              " '  inflating: fra.txt                 ']"
            ]
          },
          "metadata": {},
          "execution_count": 3
        }
      ]
    },
    {
      "cell_type": "code",
      "metadata": {
        "id": "41MYpGkJ1eAO"
      },
      "source": [
        "from keras.models import Model\n",
        "from keras.layers import Input, LSTM, Dense"
      ],
      "execution_count": 4,
      "outputs": []
    },
    {
      "cell_type": "code",
      "metadata": {
        "id": "lb3ttSiU1wKd"
      },
      "source": [
        "batch_size = 64  \n",
        "epochs = 100  \n",
        "latent_dim = 256  \n",
        "num_samples = 10000  \n",
        "data_path = \"/content/fra.txt\""
      ],
      "execution_count": 5,
      "outputs": []
    },
    {
      "cell_type": "code",
      "metadata": {
        "id": "szETmBoBApnY"
      },
      "source": [
        "# Vectorize the data.\n",
        "input_texts = []\n",
        "target_texts = []\n",
        "input_characters = set()\n",
        "target_characters = set()\n",
        "with open(data_path, \"r\", encoding=\"utf-8\") as f:\n",
        "    lines = f.read().split(\"\\n\")\n",
        "for line in lines[: min(num_samples, len(lines) - 1)]:\n",
        "    input_text, target_text, _ = line.split(\"\\t\")\n",
        "    # We use \"tab\" as the \"start sequence\" character\n",
        "    # for the targets, and \"\\n\" as \"end sequence\" character.\n",
        "    target_text = \"\\t\" + target_text + \"\\n\"\n",
        "    input_texts.append(input_text)\n",
        "    target_texts.append(target_text)\n",
        "    for char in input_text:\n",
        "        if char not in input_characters:\n",
        "            input_characters.add(char)\n",
        "    for char in target_text:\n",
        "        if char not in target_characters:\n",
        "            target_characters.add(char)"
      ],
      "execution_count": 6,
      "outputs": []
    },
    {
      "cell_type": "code",
      "metadata": {
        "colab": {
          "base_uri": "https://localhost:8080/"
        },
        "id": "JRMOuISTAs8o",
        "outputId": "53630923-1501-4955-d42d-0f0476fa7833"
      },
      "source": [
        "input_characters = sorted(list(input_characters))\n",
        "target_characters = sorted(list(target_characters))\n",
        "num_encoder_tokens = len(input_characters)\n",
        "num_decoder_tokens = len(target_characters)\n",
        "max_encoder_seq_length = max([len(txt) for txt in input_texts])\n",
        "max_decoder_seq_length = max([len(txt) for txt in target_texts])\n",
        "\n",
        "print(\"Number of samples:\", len(input_texts))\n",
        "print(\"Number of unique input tokens:\", num_encoder_tokens)\n",
        "print(\"Number of unique output tokens:\", num_decoder_tokens)\n",
        "print(\"Max sequence length for inputs:\", max_encoder_seq_length)\n",
        "print(\"Max sequence length for outputs:\", max_decoder_seq_length)"
      ],
      "execution_count": 7,
      "outputs": [
        {
          "output_type": "stream",
          "name": "stdout",
          "text": [
            "Number of samples: 10000\n",
            "Number of unique input tokens: 71\n",
            "Number of unique output tokens: 92\n",
            "Max sequence length for inputs: 15\n",
            "Max sequence length for outputs: 59\n"
          ]
        }
      ]
    },
    {
      "cell_type": "code",
      "metadata": {
        "id": "bbcq1J9AAybI"
      },
      "source": [
        "input_token_index = dict([(char, i) for i, char in enumerate(input_characters)])\n",
        "target_token_index = dict([(char, i) for i, char in enumerate(target_characters)])"
      ],
      "execution_count": 8,
      "outputs": []
    },
    {
      "cell_type": "code",
      "metadata": {
        "id": "_ZXPn05FA3Of"
      },
      "source": [
        "encoder_input_data = np.zeros(\n",
        "    (len(input_texts), max_encoder_seq_length, num_encoder_tokens), dtype=\"float32\"\n",
        ")\n",
        "decoder_input_data = np.zeros(\n",
        "    (len(input_texts), max_decoder_seq_length, num_decoder_tokens), dtype=\"float32\"\n",
        ")\n",
        "decoder_target_data = np.zeros(\n",
        "    (len(input_texts), max_decoder_seq_length, num_decoder_tokens), dtype=\"float32\"\n",
        ")"
      ],
      "execution_count": 9,
      "outputs": []
    },
    {
      "cell_type": "code",
      "metadata": {
        "id": "wKGMeLoKA77p"
      },
      "source": [
        "for i, (input_text, target_text) in enumerate(zip(input_texts, target_texts)):\n",
        "    for t, char in enumerate(input_text):\n",
        "        encoder_input_data[i, t, input_token_index[char]] = 1.0\n",
        "    encoder_input_data[i, t + 1 :, input_token_index[\" \"]] = 1.0\n",
        "    for t, char in enumerate(target_text):\n",
        "        # decoder_target_data is ahead of decoder_input_data by one timestep\n",
        "        decoder_input_data[i, t, target_token_index[char]] = 1.0\n",
        "        if t > 0:\n",
        "            # decoder_target_data will be ahead by one timestep\n",
        "            # and will not include the start character.\n",
        "            decoder_target_data[i, t - 1, target_token_index[char]] = 1.0\n",
        "    decoder_input_data[i, t + 1 :, target_token_index[\" \"]] = 1.0\n",
        "    decoder_target_data[i, t:, target_token_index[\" \"]] = 1.0"
      ],
      "execution_count": 10,
      "outputs": []
    },
    {
      "cell_type": "markdown",
      "metadata": {
        "id": "TwSwFlGcBAff"
      },
      "source": [
        "**Buiding the Model**"
      ]
    },
    {
      "cell_type": "code",
      "metadata": {
        "id": "lB2MI6PGBFHv"
      },
      "source": [
        "# Define an input sequence and process it.\n",
        "encoder_inputs = keras.Input(shape=(None, num_encoder_tokens))\n",
        "encoder = keras.layers.LSTM(latent_dim, return_state=True)\n",
        "encoder_outputs, state_h, state_c = encoder(encoder_inputs)\n",
        "\n",
        "# We discard `encoder_outputs` and only keep the states.\n",
        "encoder_states = [state_h, state_c]\n",
        "\n",
        "# Set up the decoder, using `encoder_states` as initial state.\n",
        "decoder_inputs = keras.Input(shape=(None, num_decoder_tokens))\n",
        "\n",
        "# We set up our decoder to return full output sequences,\n",
        "# and to return internal states as well. We don't use the\n",
        "# return states in the training model, but we will use them in inference.\n",
        "decoder_lstm = keras.layers.LSTM(latent_dim, return_sequences=True, return_state=True)\n",
        "decoder_outputs, _, _ = decoder_lstm(decoder_inputs, initial_state=encoder_states)\n",
        "decoder_dense = keras.layers.Dense(num_decoder_tokens, activation=\"softmax\")\n",
        "decoder_outputs = decoder_dense(decoder_outputs)\n",
        "\n",
        "# Define the model that will turn\n",
        "# `encoder_input_data` & `decoder_input_data` into `decoder_target_data`\n",
        "model = keras.Model([encoder_inputs, decoder_inputs], decoder_outputs)"
      ],
      "execution_count": 11,
      "outputs": []
    },
    {
      "cell_type": "markdown",
      "metadata": {
        "id": "ITplaRdGBJiy"
      },
      "source": [
        "**Training the model**"
      ]
    },
    {
      "cell_type": "code",
      "metadata": {
        "colab": {
          "base_uri": "https://localhost:8080/"
        },
        "id": "3cDoMMquBI1_",
        "outputId": "ec2d65af-5d5e-4007-b0fe-e476d80660e4"
      },
      "source": [
        "model.compile(\n",
        "    optimizer=\"rmsprop\", loss=\"categorical_crossentropy\", metrics=[\"accuracy\"]\n",
        ")\n",
        "model.fit(\n",
        "    [encoder_input_data, decoder_input_data],\n",
        "    decoder_target_data,\n",
        "    batch_size=batch_size,\n",
        "    epochs=epochs,\n",
        "    validation_split=0.2,\n",
        ")\n",
        "# Save model\n",
        "model.save(\"/content/s2s\")"
      ],
      "execution_count": 12,
      "outputs": [
        {
          "output_type": "stream",
          "name": "stdout",
          "text": [
            "Epoch 1/100\n",
            "125/125 [==============================] - 14s 45ms/step - loss: 1.1419 - accuracy: 0.7367 - val_loss: 1.0458 - val_accuracy: 0.7112\n",
            "Epoch 2/100\n",
            "125/125 [==============================] - 4s 35ms/step - loss: 0.8004 - accuracy: 0.7826 - val_loss: 0.8429 - val_accuracy: 0.7672\n",
            "Epoch 3/100\n",
            "125/125 [==============================] - 4s 34ms/step - loss: 0.6402 - accuracy: 0.8191 - val_loss: 0.6772 - val_accuracy: 0.8042\n",
            "Epoch 4/100\n",
            "125/125 [==============================] - 4s 34ms/step - loss: 0.5622 - accuracy: 0.8365 - val_loss: 0.6182 - val_accuracy: 0.8213\n",
            "Epoch 5/100\n",
            "125/125 [==============================] - 4s 34ms/step - loss: 0.5181 - accuracy: 0.8479 - val_loss: 0.5877 - val_accuracy: 0.8281\n",
            "Epoch 6/100\n",
            "125/125 [==============================] - 4s 34ms/step - loss: 0.4851 - accuracy: 0.8571 - val_loss: 0.5613 - val_accuracy: 0.8368\n",
            "Epoch 7/100\n",
            "125/125 [==============================] - 4s 34ms/step - loss: 0.4583 - accuracy: 0.8643 - val_loss: 0.5377 - val_accuracy: 0.8426\n",
            "Epoch 8/100\n",
            "125/125 [==============================] - 4s 34ms/step - loss: 0.4352 - accuracy: 0.8707 - val_loss: 0.5157 - val_accuracy: 0.8468\n",
            "Epoch 9/100\n",
            "125/125 [==============================] - 4s 34ms/step - loss: 0.4154 - accuracy: 0.8758 - val_loss: 0.4997 - val_accuracy: 0.8518\n",
            "Epoch 10/100\n",
            "125/125 [==============================] - 4s 34ms/step - loss: 0.3969 - accuracy: 0.8811 - val_loss: 0.4898 - val_accuracy: 0.8550\n",
            "Epoch 11/100\n",
            "125/125 [==============================] - 4s 34ms/step - loss: 0.3800 - accuracy: 0.8859 - val_loss: 0.4818 - val_accuracy: 0.8582\n",
            "Epoch 12/100\n",
            "125/125 [==============================] - 4s 34ms/step - loss: 0.3643 - accuracy: 0.8906 - val_loss: 0.4753 - val_accuracy: 0.8600\n",
            "Epoch 13/100\n",
            "125/125 [==============================] - 4s 34ms/step - loss: 0.3498 - accuracy: 0.8949 - val_loss: 0.4672 - val_accuracy: 0.8621\n",
            "Epoch 14/100\n",
            "125/125 [==============================] - 4s 34ms/step - loss: 0.3364 - accuracy: 0.8989 - val_loss: 0.4601 - val_accuracy: 0.8655\n",
            "Epoch 15/100\n",
            "125/125 [==============================] - 4s 34ms/step - loss: 0.3234 - accuracy: 0.9028 - val_loss: 0.4550 - val_accuracy: 0.8671\n",
            "Epoch 16/100\n",
            "125/125 [==============================] - 4s 34ms/step - loss: 0.3109 - accuracy: 0.9066 - val_loss: 0.4481 - val_accuracy: 0.8697\n",
            "Epoch 17/100\n",
            "125/125 [==============================] - 4s 35ms/step - loss: 0.2995 - accuracy: 0.9097 - val_loss: 0.4495 - val_accuracy: 0.8694\n",
            "Epoch 18/100\n",
            "125/125 [==============================] - 4s 34ms/step - loss: 0.2884 - accuracy: 0.9135 - val_loss: 0.4507 - val_accuracy: 0.8699\n",
            "Epoch 19/100\n",
            "125/125 [==============================] - 4s 34ms/step - loss: 0.2778 - accuracy: 0.9166 - val_loss: 0.4476 - val_accuracy: 0.8712\n",
            "Epoch 20/100\n",
            "125/125 [==============================] - 4s 34ms/step - loss: 0.2678 - accuracy: 0.9191 - val_loss: 0.4428 - val_accuracy: 0.8732\n",
            "Epoch 21/100\n",
            "125/125 [==============================] - 4s 34ms/step - loss: 0.2585 - accuracy: 0.9219 - val_loss: 0.4431 - val_accuracy: 0.8736\n",
            "Epoch 22/100\n",
            "125/125 [==============================] - 4s 34ms/step - loss: 0.2497 - accuracy: 0.9246 - val_loss: 0.4443 - val_accuracy: 0.8746\n",
            "Epoch 23/100\n",
            "125/125 [==============================] - 4s 34ms/step - loss: 0.2410 - accuracy: 0.9274 - val_loss: 0.4478 - val_accuracy: 0.8730\n",
            "Epoch 24/100\n",
            "125/125 [==============================] - 4s 34ms/step - loss: 0.2328 - accuracy: 0.9295 - val_loss: 0.4469 - val_accuracy: 0.8742\n",
            "Epoch 25/100\n",
            "125/125 [==============================] - 4s 34ms/step - loss: 0.2249 - accuracy: 0.9318 - val_loss: 0.4537 - val_accuracy: 0.8738\n",
            "Epoch 26/100\n",
            "125/125 [==============================] - 4s 34ms/step - loss: 0.2173 - accuracy: 0.9341 - val_loss: 0.4558 - val_accuracy: 0.8738\n",
            "Epoch 27/100\n",
            "125/125 [==============================] - 4s 35ms/step - loss: 0.2100 - accuracy: 0.9362 - val_loss: 0.4532 - val_accuracy: 0.8755\n",
            "Epoch 28/100\n",
            "125/125 [==============================] - 4s 35ms/step - loss: 0.2032 - accuracy: 0.9383 - val_loss: 0.4619 - val_accuracy: 0.8746\n",
            "Epoch 29/100\n",
            "125/125 [==============================] - 4s 34ms/step - loss: 0.1963 - accuracy: 0.9404 - val_loss: 0.4643 - val_accuracy: 0.8744\n",
            "Epoch 30/100\n",
            "125/125 [==============================] - 4s 34ms/step - loss: 0.1904 - accuracy: 0.9423 - val_loss: 0.4679 - val_accuracy: 0.8740\n",
            "Epoch 31/100\n",
            "125/125 [==============================] - 4s 34ms/step - loss: 0.1842 - accuracy: 0.9438 - val_loss: 0.4680 - val_accuracy: 0.8761\n",
            "Epoch 32/100\n",
            "125/125 [==============================] - 4s 34ms/step - loss: 0.1785 - accuracy: 0.9452 - val_loss: 0.4758 - val_accuracy: 0.8743\n",
            "Epoch 33/100\n",
            "125/125 [==============================] - 4s 34ms/step - loss: 0.1729 - accuracy: 0.9471 - val_loss: 0.4771 - val_accuracy: 0.8747\n",
            "Epoch 34/100\n",
            "125/125 [==============================] - 4s 34ms/step - loss: 0.1675 - accuracy: 0.9489 - val_loss: 0.4836 - val_accuracy: 0.8754\n",
            "Epoch 35/100\n",
            "125/125 [==============================] - 4s 34ms/step - loss: 0.1624 - accuracy: 0.9504 - val_loss: 0.4895 - val_accuracy: 0.8752\n",
            "Epoch 36/100\n",
            "125/125 [==============================] - 4s 34ms/step - loss: 0.1576 - accuracy: 0.9520 - val_loss: 0.4871 - val_accuracy: 0.8751\n",
            "Epoch 37/100\n",
            "125/125 [==============================] - 4s 34ms/step - loss: 0.1527 - accuracy: 0.9531 - val_loss: 0.5036 - val_accuracy: 0.8734\n",
            "Epoch 38/100\n",
            "125/125 [==============================] - 4s 34ms/step - loss: 0.1484 - accuracy: 0.9544 - val_loss: 0.4955 - val_accuracy: 0.8757\n",
            "Epoch 39/100\n",
            "125/125 [==============================] - 4s 34ms/step - loss: 0.1436 - accuracy: 0.9562 - val_loss: 0.5030 - val_accuracy: 0.8749\n",
            "Epoch 40/100\n",
            "125/125 [==============================] - 4s 34ms/step - loss: 0.1401 - accuracy: 0.9571 - val_loss: 0.5087 - val_accuracy: 0.8744\n",
            "Epoch 41/100\n",
            "125/125 [==============================] - 4s 34ms/step - loss: 0.1361 - accuracy: 0.9581 - val_loss: 0.5143 - val_accuracy: 0.8741\n",
            "Epoch 42/100\n",
            "125/125 [==============================] - 4s 34ms/step - loss: 0.1323 - accuracy: 0.9593 - val_loss: 0.5166 - val_accuracy: 0.8753\n",
            "Epoch 43/100\n",
            "125/125 [==============================] - 4s 34ms/step - loss: 0.1286 - accuracy: 0.9604 - val_loss: 0.5236 - val_accuracy: 0.8745\n",
            "Epoch 44/100\n",
            "125/125 [==============================] - 4s 34ms/step - loss: 0.1249 - accuracy: 0.9615 - val_loss: 0.5284 - val_accuracy: 0.8740\n",
            "Epoch 45/100\n",
            "125/125 [==============================] - 4s 34ms/step - loss: 0.1220 - accuracy: 0.9624 - val_loss: 0.5355 - val_accuracy: 0.8744\n",
            "Epoch 46/100\n",
            "125/125 [==============================] - 4s 34ms/step - loss: 0.1187 - accuracy: 0.9632 - val_loss: 0.5365 - val_accuracy: 0.8753\n",
            "Epoch 47/100\n",
            "125/125 [==============================] - 4s 34ms/step - loss: 0.1152 - accuracy: 0.9642 - val_loss: 0.5400 - val_accuracy: 0.8739\n",
            "Epoch 48/100\n",
            "125/125 [==============================] - 4s 34ms/step - loss: 0.1126 - accuracy: 0.9649 - val_loss: 0.5503 - val_accuracy: 0.8739\n",
            "Epoch 49/100\n",
            "125/125 [==============================] - 4s 34ms/step - loss: 0.1098 - accuracy: 0.9659 - val_loss: 0.5492 - val_accuracy: 0.8738\n",
            "Epoch 50/100\n",
            "125/125 [==============================] - 4s 34ms/step - loss: 0.1066 - accuracy: 0.9664 - val_loss: 0.5580 - val_accuracy: 0.8744\n",
            "Epoch 51/100\n",
            "125/125 [==============================] - 4s 34ms/step - loss: 0.1044 - accuracy: 0.9673 - val_loss: 0.5632 - val_accuracy: 0.8744\n",
            "Epoch 52/100\n",
            "125/125 [==============================] - 4s 34ms/step - loss: 0.1014 - accuracy: 0.9683 - val_loss: 0.5704 - val_accuracy: 0.8740\n",
            "Epoch 53/100\n",
            "125/125 [==============================] - 4s 34ms/step - loss: 0.0989 - accuracy: 0.9689 - val_loss: 0.5781 - val_accuracy: 0.8726\n",
            "Epoch 54/100\n",
            "125/125 [==============================] - 4s 34ms/step - loss: 0.0968 - accuracy: 0.9695 - val_loss: 0.5766 - val_accuracy: 0.8739\n",
            "Epoch 55/100\n",
            "125/125 [==============================] - 4s 34ms/step - loss: 0.0943 - accuracy: 0.9704 - val_loss: 0.5864 - val_accuracy: 0.8737\n",
            "Epoch 56/100\n",
            "125/125 [==============================] - 4s 34ms/step - loss: 0.0922 - accuracy: 0.9709 - val_loss: 0.5870 - val_accuracy: 0.8739\n",
            "Epoch 57/100\n",
            "125/125 [==============================] - 4s 34ms/step - loss: 0.0901 - accuracy: 0.9713 - val_loss: 0.5886 - val_accuracy: 0.8739\n",
            "Epoch 58/100\n",
            "125/125 [==============================] - 4s 34ms/step - loss: 0.0880 - accuracy: 0.9720 - val_loss: 0.5949 - val_accuracy: 0.8743\n",
            "Epoch 59/100\n",
            "125/125 [==============================] - 4s 34ms/step - loss: 0.0859 - accuracy: 0.9725 - val_loss: 0.6063 - val_accuracy: 0.8728\n",
            "Epoch 60/100\n",
            "125/125 [==============================] - 4s 34ms/step - loss: 0.0841 - accuracy: 0.9732 - val_loss: 0.6084 - val_accuracy: 0.8727\n",
            "Epoch 61/100\n",
            "125/125 [==============================] - 4s 34ms/step - loss: 0.0814 - accuracy: 0.9739 - val_loss: 0.6187 - val_accuracy: 0.8728\n",
            "Epoch 62/100\n",
            "125/125 [==============================] - 4s 34ms/step - loss: 0.0802 - accuracy: 0.9742 - val_loss: 0.6189 - val_accuracy: 0.8735\n",
            "Epoch 63/100\n",
            "125/125 [==============================] - 4s 34ms/step - loss: 0.0785 - accuracy: 0.9747 - val_loss: 0.6237 - val_accuracy: 0.8730\n",
            "Epoch 64/100\n",
            "125/125 [==============================] - 4s 34ms/step - loss: 0.0769 - accuracy: 0.9752 - val_loss: 0.6319 - val_accuracy: 0.8716\n",
            "Epoch 65/100\n",
            "125/125 [==============================] - 4s 34ms/step - loss: 0.0753 - accuracy: 0.9755 - val_loss: 0.6343 - val_accuracy: 0.8731\n",
            "Epoch 66/100\n",
            "125/125 [==============================] - 4s 34ms/step - loss: 0.0734 - accuracy: 0.9762 - val_loss: 0.6377 - val_accuracy: 0.8734\n",
            "Epoch 67/100\n",
            "125/125 [==============================] - 4s 34ms/step - loss: 0.0722 - accuracy: 0.9764 - val_loss: 0.6385 - val_accuracy: 0.8737\n",
            "Epoch 68/100\n",
            "125/125 [==============================] - 4s 34ms/step - loss: 0.0709 - accuracy: 0.9769 - val_loss: 0.6411 - val_accuracy: 0.8733\n",
            "Epoch 69/100\n",
            "125/125 [==============================] - 4s 34ms/step - loss: 0.0694 - accuracy: 0.9772 - val_loss: 0.6478 - val_accuracy: 0.8725\n",
            "Epoch 70/100\n",
            "125/125 [==============================] - 4s 34ms/step - loss: 0.0680 - accuracy: 0.9776 - val_loss: 0.6554 - val_accuracy: 0.8715\n",
            "Epoch 71/100\n",
            "125/125 [==============================] - 4s 34ms/step - loss: 0.0662 - accuracy: 0.9782 - val_loss: 0.6558 - val_accuracy: 0.8727\n",
            "Epoch 72/100\n",
            "125/125 [==============================] - 4s 34ms/step - loss: 0.0652 - accuracy: 0.9783 - val_loss: 0.6676 - val_accuracy: 0.8718\n",
            "Epoch 73/100\n",
            "125/125 [==============================] - 4s 34ms/step - loss: 0.0639 - accuracy: 0.9787 - val_loss: 0.6667 - val_accuracy: 0.8725\n",
            "Epoch 74/100\n",
            "125/125 [==============================] - 4s 34ms/step - loss: 0.0630 - accuracy: 0.9790 - val_loss: 0.6682 - val_accuracy: 0.8726\n",
            "Epoch 75/100\n",
            "125/125 [==============================] - 4s 34ms/step - loss: 0.0613 - accuracy: 0.9797 - val_loss: 0.6754 - val_accuracy: 0.8719\n",
            "Epoch 76/100\n",
            "125/125 [==============================] - 4s 34ms/step - loss: 0.0605 - accuracy: 0.9798 - val_loss: 0.6763 - val_accuracy: 0.8727\n",
            "Epoch 77/100\n",
            "125/125 [==============================] - 4s 34ms/step - loss: 0.0596 - accuracy: 0.9800 - val_loss: 0.6828 - val_accuracy: 0.8720\n",
            "Epoch 78/100\n",
            "125/125 [==============================] - 4s 34ms/step - loss: 0.0585 - accuracy: 0.9801 - val_loss: 0.6895 - val_accuracy: 0.8711\n",
            "Epoch 79/100\n",
            "125/125 [==============================] - 4s 34ms/step - loss: 0.0573 - accuracy: 0.9805 - val_loss: 0.6907 - val_accuracy: 0.8723\n",
            "Epoch 80/100\n",
            "125/125 [==============================] - 4s 34ms/step - loss: 0.0567 - accuracy: 0.9807 - val_loss: 0.6929 - val_accuracy: 0.8718\n",
            "Epoch 81/100\n",
            "125/125 [==============================] - 4s 34ms/step - loss: 0.0557 - accuracy: 0.9812 - val_loss: 0.6994 - val_accuracy: 0.8718\n",
            "Epoch 82/100\n",
            "125/125 [==============================] - 4s 34ms/step - loss: 0.0546 - accuracy: 0.9812 - val_loss: 0.7028 - val_accuracy: 0.8719\n",
            "Epoch 83/100\n",
            "125/125 [==============================] - 5s 37ms/step - loss: 0.0540 - accuracy: 0.9815 - val_loss: 0.7062 - val_accuracy: 0.8718\n",
            "Epoch 84/100\n",
            "125/125 [==============================] - 4s 34ms/step - loss: 0.0533 - accuracy: 0.9817 - val_loss: 0.7063 - val_accuracy: 0.8728\n",
            "Epoch 85/100\n",
            "125/125 [==============================] - 4s 34ms/step - loss: 0.0522 - accuracy: 0.9821 - val_loss: 0.7115 - val_accuracy: 0.8721\n",
            "Epoch 86/100\n",
            "125/125 [==============================] - 4s 34ms/step - loss: 0.0514 - accuracy: 0.9825 - val_loss: 0.7148 - val_accuracy: 0.8709\n",
            "Epoch 87/100\n",
            "125/125 [==============================] - 4s 34ms/step - loss: 0.0507 - accuracy: 0.9826 - val_loss: 0.7174 - val_accuracy: 0.8723\n",
            "Epoch 88/100\n",
            "125/125 [==============================] - 4s 34ms/step - loss: 0.0498 - accuracy: 0.9827 - val_loss: 0.7309 - val_accuracy: 0.8704\n",
            "Epoch 89/100\n",
            "125/125 [==============================] - 4s 34ms/step - loss: 0.0492 - accuracy: 0.9829 - val_loss: 0.7277 - val_accuracy: 0.8707\n",
            "Epoch 90/100\n",
            "125/125 [==============================] - 4s 34ms/step - loss: 0.0485 - accuracy: 0.9831 - val_loss: 0.7301 - val_accuracy: 0.8710\n",
            "Epoch 91/100\n",
            "125/125 [==============================] - 4s 35ms/step - loss: 0.0477 - accuracy: 0.9834 - val_loss: 0.7383 - val_accuracy: 0.8710\n",
            "Epoch 92/100\n",
            "125/125 [==============================] - 4s 35ms/step - loss: 0.0472 - accuracy: 0.9834 - val_loss: 0.7358 - val_accuracy: 0.8720\n",
            "Epoch 93/100\n",
            "125/125 [==============================] - 4s 34ms/step - loss: 0.0466 - accuracy: 0.9836 - val_loss: 0.7385 - val_accuracy: 0.8706\n",
            "Epoch 94/100\n",
            "125/125 [==============================] - 4s 34ms/step - loss: 0.0463 - accuracy: 0.9835 - val_loss: 0.7352 - val_accuracy: 0.8712\n",
            "Epoch 95/100\n",
            "125/125 [==============================] - 4s 34ms/step - loss: 0.0454 - accuracy: 0.9839 - val_loss: 0.7336 - val_accuracy: 0.8724\n",
            "Epoch 96/100\n",
            "125/125 [==============================] - 4s 34ms/step - loss: 0.0448 - accuracy: 0.9838 - val_loss: 0.7467 - val_accuracy: 0.8710\n",
            "Epoch 97/100\n",
            "125/125 [==============================] - 4s 34ms/step - loss: 0.0446 - accuracy: 0.9841 - val_loss: 0.7542 - val_accuracy: 0.8704\n",
            "Epoch 98/100\n",
            "125/125 [==============================] - 4s 34ms/step - loss: 0.0440 - accuracy: 0.9843 - val_loss: 0.7532 - val_accuracy: 0.8719\n",
            "Epoch 99/100\n",
            "125/125 [==============================] - 4s 34ms/step - loss: 0.0432 - accuracy: 0.9845 - val_loss: 0.7552 - val_accuracy: 0.8717\n",
            "Epoch 100/100\n",
            "125/125 [==============================] - 4s 34ms/step - loss: 0.0430 - accuracy: 0.9845 - val_loss: 0.7537 - val_accuracy: 0.8720\n"
          ]
        },
        {
          "output_type": "stream",
          "name": "stderr",
          "text": [
            "WARNING:absl:Found untraced functions such as lstm_cell_layer_call_fn, lstm_cell_layer_call_and_return_conditional_losses, lstm_cell_1_layer_call_fn, lstm_cell_1_layer_call_and_return_conditional_losses, lstm_cell_layer_call_fn while saving (showing 5 of 10). These functions will not be directly callable after loading.\n"
          ]
        },
        {
          "output_type": "stream",
          "name": "stdout",
          "text": [
            "INFO:tensorflow:Assets written to: /content/s2s/assets\n"
          ]
        },
        {
          "output_type": "stream",
          "name": "stderr",
          "text": [
            "INFO:tensorflow:Assets written to: /content/s2s/assets\n"
          ]
        }
      ]
    },
    {
      "cell_type": "markdown",
      "metadata": {
        "id": "FAQzOH19Db3R"
      },
      "source": [
        "**Run inference (Sampling)**"
      ]
    },
    {
      "cell_type": "code",
      "metadata": {
        "id": "tiw7D5UBDhfA"
      },
      "source": [
        "# Define sampling models\n",
        "# Restore the model and construct the encoder and decoder.\n",
        "model = keras.models.load_model(\"/content/s2s\")\n",
        "\n",
        "encoder_inputs = model.input[0]  # input_1\n",
        "encoder_outputs, state_h_enc, state_c_enc = model.layers[2].output  # lstm_1\n",
        "encoder_states = [state_h_enc, state_c_enc]\n",
        "encoder_model = keras.Model(encoder_inputs, encoder_states)\n",
        "\n",
        "decoder_inputs = model.input[1]  # input_2\n",
        "decoder_state_input_h = keras.Input(shape=(latent_dim,))\n",
        "decoder_state_input_c = keras.Input(shape=(latent_dim,))\n",
        "decoder_states_inputs = [decoder_state_input_h, decoder_state_input_c]\n",
        "decoder_lstm = model.layers[3]\n",
        "decoder_outputs, state_h_dec, state_c_dec = decoder_lstm(\n",
        "    decoder_inputs, initial_state=decoder_states_inputs\n",
        ")\n",
        "decoder_states = [state_h_dec, state_c_dec]\n",
        "decoder_dense = model.layers[4]\n",
        "decoder_outputs = decoder_dense(decoder_outputs)\n",
        "decoder_model = keras.Model(\n",
        "    [decoder_inputs] + decoder_states_inputs, [decoder_outputs] + decoder_states\n",
        ")\n",
        "\n",
        "# Reverse-lookup token index to decode sequences back to\n",
        "# something readable.\n",
        "reverse_input_char_index = dict((i, char) for char, i in input_token_index.items())\n",
        "reverse_target_char_index = dict((i, char) for char, i in target_token_index.items())\n",
        "\n",
        "\n",
        "def decode_sequence(input_seq):\n",
        "    # Encode the input as state vectors.\n",
        "    states_value = encoder_model.predict(input_seq)\n",
        "\n",
        "    # Generate empty target sequence of length 1.\n",
        "    target_seq = np.zeros((1, 1, num_decoder_tokens))\n",
        "    # Populate the first character of target sequence with the start character.\n",
        "    target_seq[0, 0, target_token_index[\"\\t\"]] = 1.0\n",
        "\n",
        "    # Sampling loop for a batch of sequences\n",
        "    # (to simplify, here we assume a batch of size 1).\n",
        "    stop_condition = False\n",
        "    decoded_sentence = \"\"\n",
        "    while not stop_condition:\n",
        "        output_tokens, h, c = decoder_model.predict([target_seq] + states_value)\n",
        "\n",
        "        # Sample a token\n",
        "        sampled_token_index = np.argmax(output_tokens[0, -1, :])\n",
        "        sampled_char = reverse_target_char_index[sampled_token_index]\n",
        "        decoded_sentence += sampled_char\n",
        "\n",
        "        # Exit condition: either hit max length\n",
        "        # or find stop character.\n",
        "        if sampled_char == \"\\n\" or len(decoded_sentence) > max_decoder_seq_length:\n",
        "            stop_condition = True\n",
        "\n",
        "        # Update the target sequence (of length 1).\n",
        "        target_seq = np.zeros((1, 1, num_decoder_tokens))\n",
        "        target_seq[0, 0, sampled_token_index] = 1.0\n",
        "\n",
        "        # Update states\n",
        "        states_value = [h, c]\n",
        "    return decoded_sentence"
      ],
      "execution_count": 14,
      "outputs": []
    },
    {
      "cell_type": "code",
      "metadata": {
        "colab": {
          "base_uri": "https://localhost:8080/"
        },
        "id": "3IpaBWA1D1dI",
        "outputId": "fed6ef8f-0b8f-4f5a-82f7-a1d2b6504a6e"
      },
      "source": [
        "for seq_index in range(20):\n",
        "    # Take one sequence (part of the training set)\n",
        "    # for trying out decoding.\n",
        "    input_seq = encoder_input_data[seq_index : seq_index + 1]\n",
        "    decoded_sentence = decode_sequence(input_seq)\n",
        "    print(\"-\")\n",
        "    print(\"Input sentence:\", input_texts[seq_index])\n",
        "    print(\"Decoded sentence:\", decoded_sentence)"
      ],
      "execution_count": 15,
      "outputs": [
        {
          "output_type": "stream",
          "name": "stdout",
          "text": [
            "-\n",
            "Input sentence: Go.\n",
            "Decoded sentence: Bouge !\n",
            "\n",
            "-\n",
            "Input sentence: Go.\n",
            "Decoded sentence: Bouge !\n",
            "\n",
            "-\n",
            "Input sentence: Go.\n",
            "Decoded sentence: Bouge !\n",
            "\n",
            "-\n",
            "Input sentence: Hi.\n",
            "Decoded sentence: Salut !\n",
            "\n",
            "-\n",
            "Input sentence: Hi.\n",
            "Decoded sentence: Salut !\n",
            "\n",
            "-\n",
            "Input sentence: Run!\n",
            "Decoded sentence: Cours !\n",
            "\n",
            "-\n",
            "Input sentence: Run!\n",
            "Decoded sentence: Cours !\n",
            "\n",
            "-\n",
            "Input sentence: Run!\n",
            "Decoded sentence: Cours !\n",
            "\n",
            "-\n",
            "Input sentence: Run!\n",
            "Decoded sentence: Cours !\n",
            "\n",
            "-\n",
            "Input sentence: Run!\n",
            "Decoded sentence: Cours !\n",
            "\n",
            "-\n",
            "Input sentence: Run!\n",
            "Decoded sentence: Cours !\n",
            "\n",
            "-\n",
            "Input sentence: Run!\n",
            "Decoded sentence: Cours !\n",
            "\n",
            "-\n",
            "Input sentence: Run!\n",
            "Decoded sentence: Cours !\n",
            "\n",
            "-\n",
            "Input sentence: Run.\n",
            "Decoded sentence: Cours !\n",
            "\n",
            "-\n",
            "Input sentence: Run.\n",
            "Decoded sentence: Cours !\n",
            "\n",
            "-\n",
            "Input sentence: Run.\n",
            "Decoded sentence: Cours !\n",
            "\n",
            "-\n",
            "Input sentence: Run.\n",
            "Decoded sentence: Cours !\n",
            "\n",
            "-\n",
            "Input sentence: Run.\n",
            "Decoded sentence: Cours !\n",
            "\n",
            "-\n",
            "Input sentence: Run.\n",
            "Decoded sentence: Cours !\n",
            "\n",
            "-\n",
            "Input sentence: Run.\n",
            "Decoded sentence: Cours !\n",
            "\n"
          ]
        }
      ]
    }
  ]
}