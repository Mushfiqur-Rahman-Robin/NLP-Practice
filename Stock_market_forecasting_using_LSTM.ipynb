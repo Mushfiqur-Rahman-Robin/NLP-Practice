{
  "nbformat": 4,
  "nbformat_minor": 0,
  "metadata": {
    "colab": {
      "name": "Stock_market_forecasting_using_LSTM",
      "provenance": []
    },
    "kernelspec": {
      "name": "python3",
      "display_name": "Python 3"
    },
    "language_info": {
      "name": "python"
    }
  },
  "cells": [
    {
      "cell_type": "code",
      "metadata": {
        "id": "wVVDasHiFD1w"
      },
      "source": [
        "import pandas as pd\n",
        "import matplotlib.pyplot as plt"
      ],
      "execution_count": 1,
      "outputs": []
    },
    {
      "cell_type": "code",
      "metadata": {
        "colab": {
          "base_uri": "https://localhost:8080/",
          "height": 306
        },
        "id": "GpzkK3SmFhUg",
        "outputId": "3eefa3c1-f250-465d-8598-e973f89bf268"
      },
      "source": [
        "df = pd.read_csv('/content/AAPL.csv')\n",
        "df.head()"
      ],
      "execution_count": 2,
      "outputs": [
        {
          "output_type": "execute_result",
          "data": {
            "text/html": [
              "<div>\n",
              "<style scoped>\n",
              "    .dataframe tbody tr th:only-of-type {\n",
              "        vertical-align: middle;\n",
              "    }\n",
              "\n",
              "    .dataframe tbody tr th {\n",
              "        vertical-align: top;\n",
              "    }\n",
              "\n",
              "    .dataframe thead th {\n",
              "        text-align: right;\n",
              "    }\n",
              "</style>\n",
              "<table border=\"1\" class=\"dataframe\">\n",
              "  <thead>\n",
              "    <tr style=\"text-align: right;\">\n",
              "      <th></th>\n",
              "      <th>Unnamed: 0</th>\n",
              "      <th>symbol</th>\n",
              "      <th>date</th>\n",
              "      <th>close</th>\n",
              "      <th>high</th>\n",
              "      <th>low</th>\n",
              "      <th>open</th>\n",
              "      <th>volume</th>\n",
              "      <th>adjClose</th>\n",
              "      <th>adjHigh</th>\n",
              "      <th>adjLow</th>\n",
              "      <th>adjOpen</th>\n",
              "      <th>adjVolume</th>\n",
              "      <th>divCash</th>\n",
              "      <th>splitFactor</th>\n",
              "    </tr>\n",
              "  </thead>\n",
              "  <tbody>\n",
              "    <tr>\n",
              "      <th>0</th>\n",
              "      <td>0</td>\n",
              "      <td>AAPL</td>\n",
              "      <td>2015-05-27 00:00:00+00:00</td>\n",
              "      <td>132.045</td>\n",
              "      <td>132.260</td>\n",
              "      <td>130.05</td>\n",
              "      <td>130.34</td>\n",
              "      <td>45833246</td>\n",
              "      <td>121.682558</td>\n",
              "      <td>121.880685</td>\n",
              "      <td>119.844118</td>\n",
              "      <td>120.111360</td>\n",
              "      <td>45833246</td>\n",
              "      <td>0.0</td>\n",
              "      <td>1.0</td>\n",
              "    </tr>\n",
              "    <tr>\n",
              "      <th>1</th>\n",
              "      <td>1</td>\n",
              "      <td>AAPL</td>\n",
              "      <td>2015-05-28 00:00:00+00:00</td>\n",
              "      <td>131.780</td>\n",
              "      <td>131.950</td>\n",
              "      <td>131.10</td>\n",
              "      <td>131.86</td>\n",
              "      <td>30733309</td>\n",
              "      <td>121.438354</td>\n",
              "      <td>121.595013</td>\n",
              "      <td>120.811718</td>\n",
              "      <td>121.512076</td>\n",
              "      <td>30733309</td>\n",
              "      <td>0.0</td>\n",
              "      <td>1.0</td>\n",
              "    </tr>\n",
              "    <tr>\n",
              "      <th>2</th>\n",
              "      <td>2</td>\n",
              "      <td>AAPL</td>\n",
              "      <td>2015-05-29 00:00:00+00:00</td>\n",
              "      <td>130.280</td>\n",
              "      <td>131.450</td>\n",
              "      <td>129.90</td>\n",
              "      <td>131.23</td>\n",
              "      <td>50884452</td>\n",
              "      <td>120.056069</td>\n",
              "      <td>121.134251</td>\n",
              "      <td>119.705890</td>\n",
              "      <td>120.931516</td>\n",
              "      <td>50884452</td>\n",
              "      <td>0.0</td>\n",
              "      <td>1.0</td>\n",
              "    </tr>\n",
              "    <tr>\n",
              "      <th>3</th>\n",
              "      <td>3</td>\n",
              "      <td>AAPL</td>\n",
              "      <td>2015-06-01 00:00:00+00:00</td>\n",
              "      <td>130.535</td>\n",
              "      <td>131.390</td>\n",
              "      <td>130.05</td>\n",
              "      <td>131.20</td>\n",
              "      <td>32112797</td>\n",
              "      <td>120.291057</td>\n",
              "      <td>121.078960</td>\n",
              "      <td>119.844118</td>\n",
              "      <td>120.903870</td>\n",
              "      <td>32112797</td>\n",
              "      <td>0.0</td>\n",
              "      <td>1.0</td>\n",
              "    </tr>\n",
              "    <tr>\n",
              "      <th>4</th>\n",
              "      <td>4</td>\n",
              "      <td>AAPL</td>\n",
              "      <td>2015-06-02 00:00:00+00:00</td>\n",
              "      <td>129.960</td>\n",
              "      <td>130.655</td>\n",
              "      <td>129.32</td>\n",
              "      <td>129.86</td>\n",
              "      <td>33667627</td>\n",
              "      <td>119.761181</td>\n",
              "      <td>120.401640</td>\n",
              "      <td>119.171406</td>\n",
              "      <td>119.669029</td>\n",
              "      <td>33667627</td>\n",
              "      <td>0.0</td>\n",
              "      <td>1.0</td>\n",
              "    </tr>\n",
              "  </tbody>\n",
              "</table>\n",
              "</div>"
            ],
            "text/plain": [
              "   Unnamed: 0 symbol  ... divCash  splitFactor\n",
              "0           0   AAPL  ...     0.0          1.0\n",
              "1           1   AAPL  ...     0.0          1.0\n",
              "2           2   AAPL  ...     0.0          1.0\n",
              "3           3   AAPL  ...     0.0          1.0\n",
              "4           4   AAPL  ...     0.0          1.0\n",
              "\n",
              "[5 rows x 15 columns]"
            ]
          },
          "metadata": {},
          "execution_count": 2
        }
      ]
    },
    {
      "cell_type": "code",
      "metadata": {
        "colab": {
          "base_uri": "https://localhost:8080/"
        },
        "id": "P0eHx-tBF2PO",
        "outputId": "1fc09097-2edc-4658-f895-6f4aa477007a"
      },
      "source": [
        "df1 = df['close']\n",
        "df1"
      ],
      "execution_count": 3,
      "outputs": [
        {
          "output_type": "execute_result",
          "data": {
            "text/plain": [
              "0       132.045\n",
              "1       131.780\n",
              "2       130.280\n",
              "3       130.535\n",
              "4       129.960\n",
              "         ...   \n",
              "1253    314.960\n",
              "1254    313.140\n",
              "1255    319.230\n",
              "1256    316.850\n",
              "1257    318.890\n",
              "Name: close, Length: 1258, dtype: float64"
            ]
          },
          "metadata": {},
          "execution_count": 3
        }
      ]
    },
    {
      "cell_type": "code",
      "metadata": {
        "colab": {
          "base_uri": "https://localhost:8080/",
          "height": 282
        },
        "id": "DInq2JYJGKcG",
        "outputId": "8a76550c-7b2d-4c1e-8e38-5244fd5d1948"
      },
      "source": [
        "plt.plot(df1)"
      ],
      "execution_count": 4,
      "outputs": [
        {
          "output_type": "execute_result",
          "data": {
            "text/plain": [
              "[<matplotlib.lines.Line2D at 0x7f02592a69d0>]"
            ]
          },
          "metadata": {},
          "execution_count": 4
        },
        {
          "output_type": "display_data",
          "data": {
            "image/png": "[encoded data removed]",
            "text/plain": [
              "<Figure size 432x288 with 1 Axes>"
            ]
          },
          "metadata": {
            "needs_background": "light"
          }
        }
      ]
    },
    {
      "cell_type": "code",
      "metadata": {
        "colab": {
          "base_uri": "https://localhost:8080/"
        },
        "id": "9kQgdqb2GdEn",
        "outputId": "87234899-c312-4f04-ada6-75ccef5b2835"
      },
      "source": [
        "import numpy as np\n",
        "from sklearn.preprocessing import MinMaxScaler\n",
        "\n",
        "scaler = MinMaxScaler(feature_range=(0,1))\n",
        "df1 = scaler.fit_transform(np.array(df1).reshape(-1,1))\n",
        "df1"
      ],
      "execution_count": 5,
      "outputs": [
        {
          "output_type": "execute_result",
          "data": {
            "text/plain": [
              "array([[0.17607447],\n",
              "       [0.17495567],\n",
              "       [0.16862282],\n",
              "       ...,\n",
              "       [0.96635143],\n",
              "       [0.9563033 ],\n",
              "       [0.96491598]])"
            ]
          },
          "metadata": {},
          "execution_count": 5
        }
      ]
    },
    {
      "cell_type": "code",
      "metadata": {
        "colab": {
          "base_uri": "https://localhost:8080/"
        },
        "id": "DtbY7PXmIdRY",
        "outputId": "77412a8a-8f98-4949-beb5-27b9f33546a9"
      },
      "source": [
        "len(df1)"
      ],
      "execution_count": 6,
      "outputs": [
        {
          "output_type": "execute_result",
          "data": {
            "text/plain": [
              "1258"
            ]
          },
          "metadata": {},
          "execution_count": 6
        }
      ]
    },
    {
      "cell_type": "code",
      "metadata": {
        "id": "-EufqpgSIVnZ"
      },
      "source": [
        "training_size = int(len(df1)*0.70)\n",
        "test_size = len(df1)-training_size\n",
        "train_data,test_data = df1[0:training_size,:], df1[training_size:len(df1),:1]"
      ],
      "execution_count": 7,
      "outputs": []
    },
    {
      "cell_type": "code",
      "metadata": {
        "colab": {
          "base_uri": "https://localhost:8080/"
        },
        "id": "82AE-BPHIfXW",
        "outputId": "ce177534-18ae-48d4-9d1d-1ae60c97464f"
      },
      "source": [
        "training_size, test_size"
      ],
      "execution_count": 8,
      "outputs": [
        {
          "output_type": "execute_result",
          "data": {
            "text/plain": [
              "(880, 378)"
            ]
          },
          "metadata": {},
          "execution_count": 8
        }
      ]
    },
    {
      "cell_type": "code",
      "metadata": {
        "id": "LTtRjFO7IiJ3"
      },
      "source": [
        "import numpy\n",
        "# convert an array of values into a dataset matrix      # Taken from Krish Naik, MachinelearningMastery\n",
        "def create_dataset(dataset, time_step):\n",
        "\tdataX, dataY = [], []\n",
        "\tfor i in range(len(dataset)-time_step-1):\n",
        "\t\ta = dataset[i:(i+time_step), 0]  \n",
        "\t\tdataX.append(a)\n",
        "\t\tdataY.append(dataset[i + time_step, 0])\n",
        "\treturn numpy.array(dataX), numpy.array(dataY)"
      ],
      "execution_count": 9,
      "outputs": []
    },
    {
      "cell_type": "code",
      "metadata": {
        "id": "m-5b9k-bPRTo"
      },
      "source": [
        "time_step = 50\n",
        "X_train, y_train = create_dataset(train_data, time_step)\n",
        "X_test, y_test = create_dataset(test_data, time_step)"
      ],
      "execution_count": 10,
      "outputs": []
    },
    {
      "cell_type": "code",
      "metadata": {
        "id": "BlTVzFiBRFKw"
      },
      "source": [
        "# reshape input to be [samples, time steps, features] which is required for LSTM\n",
        "X_train = X_train.reshape(X_train.shape[0],X_train.shape[1] , 1)\n",
        "X_test = X_test.reshape(X_test.shape[0],X_test.shape[1] , 1)"
      ],
      "execution_count": 11,
      "outputs": []
    },
    {
      "cell_type": "code",
      "metadata": {
        "colab": {
          "base_uri": "https://localhost:8080/"
        },
        "id": "XaUtx9Q0Xs4i",
        "outputId": "327e178b-4606-4323-ea3b-c7b55e16f17d"
      },
      "source": [
        "X_train.shape[0],X_train.shape[1]"
      ],
      "execution_count": 12,
      "outputs": [
        {
          "output_type": "execute_result",
          "data": {
            "text/plain": [
              "(829, 50)"
            ]
          },
          "metadata": {},
          "execution_count": 12
        }
      ]
    },
    {
      "cell_type": "code",
      "metadata": {
        "colab": {
          "base_uri": "https://localhost:8080/"
        },
        "id": "Mk0o4mFyX0QW",
        "outputId": "7b9f66fc-e62b-427a-cb75-f0ea1a09c7f2"
      },
      "source": [
        "X_test.shape[0],X_test.shape[1]"
      ],
      "execution_count": 13,
      "outputs": [
        {
          "output_type": "execute_result",
          "data": {
            "text/plain": [
              "(327, 50)"
            ]
          },
          "metadata": {},
          "execution_count": 13
        }
      ]
    },
    {
      "cell_type": "code",
      "metadata": {
        "id": "1F6tbesdRhNI"
      },
      "source": [
        "from keras.models import Sequential\n",
        "from keras.layers import Dense, LSTM"
      ],
      "execution_count": 14,
      "outputs": []
    },
    {
      "cell_type": "code",
      "metadata": {
        "id": "oTdOcAHwRhrZ"
      },
      "source": [
        "model=Sequential()\n",
        "model.add(LSTM(50,return_sequences=True,input_shape=(50,1)))\n",
        "model.add(LSTM(50,return_sequences=True))\n",
        "model.add(LSTM(50))\n",
        "model.add(Dense(1))\n",
        "model.compile(loss='mean_squared_error',optimizer='adam')"
      ],
      "execution_count": 15,
      "outputs": []
    },
    {
      "cell_type": "code",
      "metadata": {
        "colab": {
          "base_uri": "https://localhost:8080/"
        },
        "id": "Kf23SlDpS6A6",
        "outputId": "b830ead1-1593-4e53-da48-b74066e67fad"
      },
      "source": [
        "model.summary()"
      ],
      "execution_count": 16,
      "outputs": [
        {
          "output_type": "stream",
          "name": "stdout",
          "text": [
            "Model: \"sequential\"\n",
            "_________________________________________________________________\n",
            "Layer (type)                 Output Shape              Param #   \n",
            "=================================================================\n",
            "lstm (LSTM)                  (None, 50, 50)            10400     \n",
            "_________________________________________________________________\n",
            "lstm_1 (LSTM)                (None, 50, 50)            20200     \n",
            "_________________________________________________________________\n",
            "lstm_2 (LSTM)                (None, 50)                20200     \n",
            "_________________________________________________________________\n",
            "dense (Dense)                (None, 1)                 51        \n",
            "=================================================================\n",
            "Total params: 50,851\n",
            "Trainable params: 50,851\n",
            "Non-trainable params: 0\n",
            "_________________________________________________________________\n"
          ]
        }
      ]
    },
    {
      "cell_type": "code",
      "metadata": {
        "colab": {
          "base_uri": "https://localhost:8080/"
        },
        "id": "drq2cyaaS75y",
        "outputId": "7b1aaf9b-f9b5-4d7a-bf42-8f7ce6835b09"
      },
      "source": [
        "model.fit(X_train, y_train, validation_data = (X_test, y_test), epochs=10, batch_size=64, verbose=1)"
      ],
      "execution_count": 17,
      "outputs": [
        {
          "output_type": "stream",
          "name": "stdout",
          "text": [
            "Epoch 1/10\n",
            "13/13 [==============================] - 7s 201ms/step - loss: 0.0219 - val_loss: 0.0642\n",
            "Epoch 2/10\n",
            "13/13 [==============================] - 1s 104ms/step - loss: 0.0040 - val_loss: 0.0042\n",
            "Epoch 3/10\n",
            "13/13 [==============================] - 1s 106ms/step - loss: 0.0013 - val_loss: 0.0046\n",
            "Epoch 4/10\n",
            "13/13 [==============================] - 1s 101ms/step - loss: 8.4954e-04 - val_loss: 0.0039\n",
            "Epoch 5/10\n",
            "13/13 [==============================] - 1s 103ms/step - loss: 8.0986e-04 - val_loss: 0.0041\n",
            "Epoch 6/10\n",
            "13/13 [==============================] - 1s 103ms/step - loss: 7.1343e-04 - val_loss: 0.0044\n",
            "Epoch 7/10\n",
            "13/13 [==============================] - 1s 102ms/step - loss: 6.9459e-04 - val_loss: 0.0044\n",
            "Epoch 8/10\n",
            "13/13 [==============================] - 1s 104ms/step - loss: 6.8540e-04 - val_loss: 0.0043\n",
            "Epoch 9/10\n",
            "13/13 [==============================] - 1s 115ms/step - loss: 6.5911e-04 - val_loss: 0.0046\n",
            "Epoch 10/10\n",
            "13/13 [==============================] - 1s 105ms/step - loss: 6.4739e-04 - val_loss: 0.0053\n"
          ]
        },
        {
          "output_type": "execute_result",
          "data": {
            "text/plain": [
              "<keras.callbacks.History at 0x7f01ff8d2910>"
            ]
          },
          "metadata": {},
          "execution_count": 17
        }
      ]
    },
    {
      "cell_type": "code",
      "metadata": {
        "id": "GZFlYyqaUYKh"
      },
      "source": [
        "train_predict = model.predict(X_train)\n",
        "test_predict = model.predict(X_test)"
      ],
      "execution_count": 18,
      "outputs": []
    },
    {
      "cell_type": "code",
      "metadata": {
        "id": "feJ6ZyuHUd1q"
      },
      "source": [
        "train_predict = scaler.inverse_transform(train_predict)\n",
        "test_predict = scaler.inverse_transform(test_predict)"
      ],
      "execution_count": 19,
      "outputs": []
    },
    {
      "cell_type": "code",
      "metadata": {
        "colab": {
          "base_uri": "https://localhost:8080/"
        },
        "id": "UUzuJffGUgbp",
        "outputId": "65d6566c-1c60-4eaa-e098-12c616ba098a"
      },
      "source": [
        "test_predict"
      ],
      "execution_count": 20,
      "outputs": [
        {
          "output_type": "execute_result",
          "data": {
            "text/plain": [
              "array([[156.40445],\n",
              "       [157.36948],\n",
              "       [158.51361],\n",
              "       [159.77283],\n",
              "       [161.0841 ],\n",
              "       [162.38562],\n",
              "       [163.64352],\n",
              "       [164.82465],\n",
              "       [165.91234],\n",
              "       [166.89275],\n",
              "       [167.76433],\n",
              "       [168.5382 ],\n",
              "       [169.2147 ],\n",
              "       [169.81438],\n",
              "       [170.36157],\n",
              "       [170.87128],\n",
              "       [171.35605],\n",
              "       [171.80614],\n",
              "       [172.23167],\n",
              "       [172.64384],\n",
              "       [173.04382],\n",
              "       [173.42126],\n",
              "       [173.75146],\n",
              "       [174.02571],\n",
              "       [174.2937 ],\n",
              "       [174.59828],\n",
              "       [174.96536],\n",
              "       [175.41893],\n",
              "       [175.98155],\n",
              "       [176.66743],\n",
              "       [177.45343],\n",
              "       [178.32515],\n",
              "       [179.31862],\n",
              "       [180.39629],\n",
              "       [181.50116],\n",
              "       [182.5712 ],\n",
              "       [183.57935],\n",
              "       [184.50787],\n",
              "       [185.35681],\n",
              "       [186.13715],\n",
              "       [186.87924],\n",
              "       [187.60855],\n",
              "       [188.33751],\n",
              "       [189.07858],\n",
              "       [189.85811],\n",
              "       [190.6741 ],\n",
              "       [191.52534],\n",
              "       [192.38452],\n",
              "       [193.22772],\n",
              "       [194.03795],\n",
              "       [194.80098],\n",
              "       [195.54063],\n",
              "       [196.27068],\n",
              "       [196.9997 ],\n",
              "       [197.7522 ],\n",
              "       [198.52908],\n",
              "       [199.30551],\n",
              "       [200.05261],\n",
              "       [200.7526 ],\n",
              "       [201.35799],\n",
              "       [201.93451],\n",
              "       [202.49886],\n",
              "       [203.08228],\n",
              "       [203.66525],\n",
              "       [204.18399],\n",
              "       [204.60641],\n",
              "       [204.89871],\n",
              "       [205.02083],\n",
              "       [204.86458],\n",
              "       [204.42804],\n",
              "       [203.75645],\n",
              "       [202.89516],\n",
              "       [201.88734],\n",
              "       [200.7288 ],\n",
              "       [199.47604],\n",
              "       [198.14436],\n",
              "       [196.7365 ],\n",
              "       [195.26843],\n",
              "       [193.76085],\n",
              "       [192.23495],\n",
              "       [190.72644],\n",
              "       [189.23811],\n",
              "       [187.7687 ],\n",
              "       [186.38504],\n",
              "       [185.152  ],\n",
              "       [184.12718],\n",
              "       [183.37666],\n",
              "       [182.93965],\n",
              "       [182.83311],\n",
              "       [183.03099],\n",
              "       [183.48817],\n",
              "       [184.13757],\n",
              "       [184.92706],\n",
              "       [185.84576],\n",
              "       [186.85999],\n",
              "       [187.94742],\n",
              "       [189.07208],\n",
              "       [190.19861],\n",
              "       [191.2699 ],\n",
              "       [192.28752],\n",
              "       [193.24547],\n",
              "       [194.12186],\n",
              "       [194.93732],\n",
              "       [195.71062],\n",
              "       [196.4645 ],\n",
              "       [197.20502],\n",
              "       [197.89348],\n",
              "       [198.5194 ],\n",
              "       [199.09308],\n",
              "       [199.60611],\n",
              "       [200.06938],\n",
              "       [200.50572],\n",
              "       [200.9197 ],\n",
              "       [201.30295],\n",
              "       [201.67125],\n",
              "       [202.00282],\n",
              "       [202.32887],\n",
              "       [202.67596],\n",
              "       [203.05266],\n",
              "       [203.44339],\n",
              "       [203.8417 ],\n",
              "       [204.25604],\n",
              "       [204.67677],\n",
              "       [205.13263],\n",
              "       [205.58897],\n",
              "       [205.98628],\n",
              "       [206.19958],\n",
              "       [206.21078],\n",
              "       [206.04199],\n",
              "       [205.76245],\n",
              "       [205.4011 ],\n",
              "       [204.9838 ],\n",
              "       [204.61008],\n",
              "       [204.27582],\n",
              "       [203.97433],\n",
              "       [203.74333],\n",
              "       [203.63045],\n",
              "       [203.65146],\n",
              "       [203.82346],\n",
              "       [204.13754],\n",
              "       [204.48569],\n",
              "       [204.83943],\n",
              "       [205.15358],\n",
              "       [205.41695],\n",
              "       [205.65518],\n",
              "       [205.87906],\n",
              "       [206.06825],\n",
              "       [206.2458 ],\n",
              "       [206.4581 ],\n",
              "       [206.7243 ],\n",
              "       [207.05702],\n",
              "       [207.47612],\n",
              "       [208.0404 ],\n",
              "       [208.75632],\n",
              "       [209.56969],\n",
              "       [210.4457 ],\n",
              "       [211.35573],\n",
              "       [212.2893 ],\n",
              "       [213.21223],\n",
              "       [214.07063],\n",
              "       [214.84256],\n",
              "       [215.50624],\n",
              "       [216.08398],\n",
              "       [216.57896],\n",
              "       [216.98851],\n",
              "       [217.36186],\n",
              "       [217.72884],\n",
              "       [218.0545 ],\n",
              "       [218.34071],\n",
              "       [218.64192],\n",
              "       [218.98094],\n",
              "       [219.34177],\n",
              "       [219.73524],\n",
              "       [220.18529],\n",
              "       [220.74799],\n",
              "       [221.43242],\n",
              "       [222.22247],\n",
              "       [223.08336],\n",
              "       [223.98886],\n",
              "       [224.92001],\n",
              "       [225.89001],\n",
              "       [226.88564],\n",
              "       [227.91713],\n",
              "       [228.97815],\n",
              "       [230.07884],\n",
              "       [231.23013],\n",
              "       [232.37036],\n",
              "       [233.46013],\n",
              "       [234.5184 ],\n",
              "       [235.6057 ],\n",
              "       [236.75284],\n",
              "       [237.95757],\n",
              "       [239.2033 ],\n",
              "       [240.48352],\n",
              "       [241.78276],\n",
              "       [243.0954 ],\n",
              "       [244.40025],\n",
              "       [245.69595],\n",
              "       [246.95154],\n",
              "       [248.17079],\n",
              "       [249.35567],\n",
              "       [250.49136],\n",
              "       [251.53796],\n",
              "       [252.4644 ],\n",
              "       [253.25456],\n",
              "       [253.94447],\n",
              "       [254.5348 ],\n",
              "       [255.06409],\n",
              "       [255.54573],\n",
              "       [255.96239],\n",
              "       [256.26923],\n",
              "       [256.47287],\n",
              "       [256.61414],\n",
              "       [256.76123],\n",
              "       [256.91342],\n",
              "       [257.08762],\n",
              "       [257.30646],\n",
              "       [257.57993],\n",
              "       [257.93707],\n",
              "       [258.41876],\n",
              "       [259.03137],\n",
              "       [259.75436],\n",
              "       [260.5615 ],\n",
              "       [261.4158 ],\n",
              "       [262.32306],\n",
              "       [263.26862],\n",
              "       [264.28012],\n",
              "       [265.34885],\n",
              "       [266.47003],\n",
              "       [267.6404 ],\n",
              "       [268.8959 ],\n",
              "       [270.20312],\n",
              "       [271.55038],\n",
              "       [272.89792],\n",
              "       [274.25232],\n",
              "       [275.64975],\n",
              "       [277.0906 ],\n",
              "       [278.61206],\n",
              "       [280.16705],\n",
              "       [281.70654],\n",
              "       [283.2214 ],\n",
              "       [284.7162 ],\n",
              "       [286.15854],\n",
              "       [287.53445],\n",
              "       [288.839  ],\n",
              "       [290.054  ],\n",
              "       [291.0915 ],\n",
              "       [291.99487],\n",
              "       [292.83057],\n",
              "       [293.6231 ],\n",
              "       [294.26907],\n",
              "       [294.7338 ],\n",
              "       [295.09073],\n",
              "       [295.39294],\n",
              "       [295.70258],\n",
              "       [296.00366],\n",
              "       [296.30695],\n",
              "       [296.59503],\n",
              "       [296.92136],\n",
              "       [297.27698],\n",
              "       [297.65714],\n",
              "       [298.0038 ],\n",
              "       [298.33102],\n",
              "       [298.60876],\n",
              "       [298.77072],\n",
              "       [298.6794 ],\n",
              "       [298.22253],\n",
              "       [297.42517],\n",
              "       [296.17343],\n",
              "       [294.4894 ],\n",
              "       [292.64835],\n",
              "       [290.71957],\n",
              "       [288.90552],\n",
              "       [287.2221 ],\n",
              "       [285.66904],\n",
              "       [284.05847],\n",
              "       [282.4978 ],\n",
              "       [280.93756],\n",
              "       [279.1536 ],\n",
              "       [277.3452 ],\n",
              "       [275.28873],\n",
              "       [273.04922],\n",
              "       [270.62305],\n",
              "       [268.04254],\n",
              "       [265.2304 ],\n",
              "       [262.16644],\n",
              "       [259.08792],\n",
              "       [256.1184 ],\n",
              "       [253.46628],\n",
              "       [251.13771],\n",
              "       [249.20508],\n",
              "       [247.67484],\n",
              "       [246.4115 ],\n",
              "       [245.3729 ],\n",
              "       [244.48409],\n",
              "       [243.88397],\n",
              "       [243.5806 ],\n",
              "       [243.6194 ],\n",
              "       [244.00247],\n",
              "       [244.73918],\n",
              "       [245.90715],\n",
              "       [247.46149],\n",
              "       [249.34795],\n",
              "       [251.44754],\n",
              "       [253.60503],\n",
              "       [255.6373 ],\n",
              "       [257.5077 ],\n",
              "       [259.17313],\n",
              "       [260.6848 ],\n",
              "       [262.06494],\n",
              "       [263.28912],\n",
              "       [264.43106],\n",
              "       [265.56882],\n",
              "       [266.6905 ],\n",
              "       [267.82202],\n",
              "       [268.99646],\n",
              "       [270.23752],\n",
              "       [271.56256],\n",
              "       [273.0093 ],\n",
              "       [274.60507],\n",
              "       [276.29898],\n",
              "       [278.00955],\n",
              "       [279.69162],\n",
              "       [281.2863 ],\n",
              "       [282.816  ],\n",
              "       [284.25873],\n",
              "       [285.65143]], dtype=float32)"
            ]
          },
          "metadata": {},
          "execution_count": 20
        }
      ]
    },
    {
      "cell_type": "code",
      "metadata": {
        "colab": {
          "base_uri": "https://localhost:8080/"
        },
        "id": "MlGTgKV3Uiv5",
        "outputId": "83ca73f5-ca9a-4ddd-93be-399200fc9e2c"
      },
      "source": [
        "import math\n",
        "from sklearn.metrics import mean_squared_error\n",
        "\n",
        "error = math.sqrt(mean_squared_error(y_test,test_predict))\n",
        "error"
      ],
      "execution_count": 21,
      "outputs": [
        {
          "output_type": "execute_result",
          "data": {
            "text/plain": [
              "230.08003201301435"
            ]
          },
          "metadata": {},
          "execution_count": 21
        }
      ]
    },
    {
      "cell_type": "code",
      "metadata": {
        "colab": {
          "base_uri": "https://localhost:8080/"
        },
        "id": "fY_zwJ7nXaZ4",
        "outputId": "33e07389-ca37-4760-804c-bd7f7e51681e"
      },
      "source": [
        "len(train_predict)"
      ],
      "execution_count": 22,
      "outputs": [
        {
          "output_type": "execute_result",
          "data": {
            "text/plain": [
              "829"
            ]
          },
          "metadata": {},
          "execution_count": 22
        }
      ]
    },
    {
      "cell_type": "code",
      "metadata": {
        "colab": {
          "base_uri": "https://localhost:8080/"
        },
        "id": "9Md59iUKYXQh",
        "outputId": "f701fa41-f361-47ef-b2e2-61e4094006fc"
      },
      "source": [
        "len(df1)-1"
      ],
      "execution_count": 23,
      "outputs": [
        {
          "output_type": "execute_result",
          "data": {
            "text/plain": [
              "1257"
            ]
          },
          "metadata": {},
          "execution_count": 23
        }
      ]
    },
    {
      "cell_type": "code",
      "metadata": {
        "colab": {
          "base_uri": "https://localhost:8080/",
          "height": 265
        },
        "id": "OX4f2rMvVQ1R",
        "outputId": "a301a67b-4a2f-462c-eb8b-bd02d24d2514"
      },
      "source": [
        "### Plotting \n",
        "# shift train predictions for plotting\n",
        "time_step=50                                       #Copied from machinelearningmastery\n",
        "trainPredictPlot = numpy.empty_like(df1)\n",
        "trainPredictPlot[:, :] = np.nan\n",
        "trainPredictPlot[time_step:len(train_predict)+time_step, :] = train_predict\n",
        "# shift test predictions for plotting\n",
        "testPredictPlot = numpy.empty_like(df1)\n",
        "testPredictPlot[:, :] = numpy.nan\n",
        "testPredictPlot[len(train_predict)+(time_step*2)+1:len(df1)-1, :] = test_predict\n",
        "# plot baseline and predictions\n",
        "plt.plot(scaler.inverse_transform(df1))\n",
        "plt.plot(trainPredictPlot)\n",
        "plt.plot(testPredictPlot)\n",
        "plt.show()"
      ],
      "execution_count": 24,
      "outputs": [
        {
          "output_type": "display_data",
          "data": {
            "image/png": "[encoded data removed]",
            "text/plain": [
              "<Figure size 432x288 with 1 Axes>"
            ]
          },
          "metadata": {
            "needs_background": "light"
          }
        }
      ]
    },
    {
      "cell_type": "code",
      "metadata": {
        "colab": {
          "base_uri": "https://localhost:8080/"
        },
        "id": "ehRhxF-wa1FU",
        "outputId": "99d39b55-3c87-442e-e422-afc9d30f7d67"
      },
      "source": [
        "len(test_data)"
      ],
      "execution_count": 25,
      "outputs": [
        {
          "output_type": "execute_result",
          "data": {
            "text/plain": [
              "378"
            ]
          },
          "metadata": {},
          "execution_count": 25
        }
      ]
    },
    {
      "cell_type": "code",
      "metadata": {
        "colab": {
          "base_uri": "https://localhost:8080/"
        },
        "id": "oqPkB5bMa-O6",
        "outputId": "d8583ea7-8721-4d22-dd10-08d634d28b3a"
      },
      "source": [
        "x_input=test_data[328:].reshape(1,-1)\n",
        "x_input.shape"
      ],
      "execution_count": 26,
      "outputs": [
        {
          "output_type": "execute_result",
          "data": {
            "text/plain": [
              "(1, 50)"
            ]
          },
          "metadata": {},
          "execution_count": 26
        }
      ]
    },
    {
      "cell_type": "code",
      "metadata": {
        "id": "iaiNvKDPbHS8"
      },
      "source": [
        "temp_input=list(x_input)\n",
        "temp_input=temp_input[0].tolist()"
      ],
      "execution_count": 27,
      "outputs": []
    },
    {
      "cell_type": "code",
      "metadata": {
        "colab": {
          "base_uri": "https://localhost:8080/"
        },
        "id": "k2CVfMqNbKoy",
        "outputId": "ff2b85b5-6d17-4faa-8e1a-37eeee208a2e"
      },
      "source": [
        "from numpy import array   # copied from Krish Naik\n",
        "\n",
        "lst_output=[]\n",
        "n_steps=50\n",
        "i=0\n",
        "while(i<30):\n",
        "    \n",
        "    if(len(temp_input)>50):\n",
        "        #print(temp_input)\n",
        "        x_input=np.array(temp_input[1:])\n",
        "        print(\"{} day input {}\".format(i,x_input))\n",
        "        x_input=x_input.reshape(1,-1)\n",
        "        x_input = x_input.reshape((1, n_steps, 1))\n",
        "        #print(x_input)\n",
        "        yhat = model.predict(x_input, verbose=0)\n",
        "        print(\"{} day output {}\".format(i,yhat))\n",
        "        temp_input.extend(yhat[0].tolist())\n",
        "        temp_input=temp_input[1:]\n",
        "        #print(temp_input)\n",
        "        lst_output.extend(yhat.tolist())\n",
        "        i=i+1\n",
        "    else:\n",
        "        x_input = x_input.reshape((1, n_steps,1))\n",
        "        yhat = model.predict(x_input, verbose=0)\n",
        "        print(yhat[0])\n",
        "        temp_input.extend(yhat[0].tolist())\n",
        "        print(len(temp_input))\n",
        "        lst_output.extend(yhat.tolist())\n",
        "        i=i+1\n",
        "    \n",
        "\n",
        "print(lst_output)"
      ],
      "execution_count": 28,
      "outputs": [
        {
          "output_type": "stream",
          "name": "stdout",
          "text": [
            "[0.8355166]\n",
            "51\n",
            "1 day input [0.64118044 0.68614371 0.66001013 0.65203074 0.58642236 0.56586169\n",
            " 0.66089673 0.65515494 0.70970193 0.66452757 0.69437642 0.69218104\n",
            " 0.63569197 0.65266402 0.63780292 0.7267162  0.71388162 0.74191506\n",
            " 0.75002111 0.77222832 0.83049059 0.8194292  0.8289707  0.8125475\n",
            " 0.78776492 0.75162543 0.78426074 0.77974331 0.81326522 0.8141096\n",
            " 0.79473106 0.83336148 0.85898843 0.83901883 0.85628641 0.87486279\n",
            " 0.88782403 0.90095415 0.92793211 0.948535   0.93333615 0.91746179\n",
            " 0.92544119 0.91771511 0.9483239  0.94064004 0.96635143 0.9563033\n",
            " 0.96491598 0.83551657]\n",
            "1 day output [[0.83950454]]\n",
            "2 day input [0.68614371 0.66001013 0.65203074 0.58642236 0.56586169 0.66089673\n",
            " 0.65515494 0.70970193 0.66452757 0.69437642 0.69218104 0.63569197\n",
            " 0.65266402 0.63780292 0.7267162  0.71388162 0.74191506 0.75002111\n",
            " 0.77222832 0.83049059 0.8194292  0.8289707  0.8125475  0.78776492\n",
            " 0.75162543 0.78426074 0.77974331 0.81326522 0.8141096  0.79473106\n",
            " 0.83336148 0.85898843 0.83901883 0.85628641 0.87486279 0.88782403\n",
            " 0.90095415 0.92793211 0.948535   0.93333615 0.91746179 0.92544119\n",
            " 0.91771511 0.9483239  0.94064004 0.96635143 0.9563033  0.96491598\n",
            " 0.83551657 0.83950454]\n",
            "2 day output [[0.8418534]]\n",
            "3 day input [0.66001013 0.65203074 0.58642236 0.56586169 0.66089673 0.65515494\n",
            " 0.70970193 0.66452757 0.69437642 0.69218104 0.63569197 0.65266402\n",
            " 0.63780292 0.7267162  0.71388162 0.74191506 0.75002111 0.77222832\n",
            " 0.83049059 0.8194292  0.8289707  0.8125475  0.78776492 0.75162543\n",
            " 0.78426074 0.77974331 0.81326522 0.8141096  0.79473106 0.83336148\n",
            " 0.85898843 0.83901883 0.85628641 0.87486279 0.88782403 0.90095415\n",
            " 0.92793211 0.948535   0.93333615 0.91746179 0.92544119 0.91771511\n",
            " 0.9483239  0.94064004 0.96635143 0.9563033  0.96491598 0.83551657\n",
            " 0.83950454 0.84185338]\n",
            "3 day output [[0.8425129]]\n",
            "4 day input [0.65203074 0.58642236 0.56586169 0.66089673 0.65515494 0.70970193\n",
            " 0.66452757 0.69437642 0.69218104 0.63569197 0.65266402 0.63780292\n",
            " 0.7267162  0.71388162 0.74191506 0.75002111 0.77222832 0.83049059\n",
            " 0.8194292  0.8289707  0.8125475  0.78776492 0.75162543 0.78426074\n",
            " 0.77974331 0.81326522 0.8141096  0.79473106 0.83336148 0.85898843\n",
            " 0.83901883 0.85628641 0.87486279 0.88782403 0.90095415 0.92793211\n",
            " 0.948535   0.93333615 0.91746179 0.92544119 0.91771511 0.9483239\n",
            " 0.94064004 0.96635143 0.9563033  0.96491598 0.83551657 0.83950454\n",
            " 0.84185338 0.84251291]\n",
            "4 day output [[0.84161484]]\n",
            "5 day input [0.58642236 0.56586169 0.66089673 0.65515494 0.70970193 0.66452757\n",
            " 0.69437642 0.69218104 0.63569197 0.65266402 0.63780292 0.7267162\n",
            " 0.71388162 0.74191506 0.75002111 0.77222832 0.83049059 0.8194292\n",
            " 0.8289707  0.8125475  0.78776492 0.75162543 0.78426074 0.77974331\n",
            " 0.81326522 0.8141096  0.79473106 0.83336148 0.85898843 0.83901883\n",
            " 0.85628641 0.87486279 0.88782403 0.90095415 0.92793211 0.948535\n",
            " 0.93333615 0.91746179 0.92544119 0.91771511 0.9483239  0.94064004\n",
            " 0.96635143 0.9563033  0.96491598 0.83551657 0.83950454 0.84185338\n",
            " 0.84251291 0.84161484]\n",
            "5 day output [[0.8393897]]\n",
            "6 day input [0.56586169 0.66089673 0.65515494 0.70970193 0.66452757 0.69437642\n",
            " 0.69218104 0.63569197 0.65266402 0.63780292 0.7267162  0.71388162\n",
            " 0.74191506 0.75002111 0.77222832 0.83049059 0.8194292  0.8289707\n",
            " 0.8125475  0.78776492 0.75162543 0.78426074 0.77974331 0.81326522\n",
            " 0.8141096  0.79473106 0.83336148 0.85898843 0.83901883 0.85628641\n",
            " 0.87486279 0.88782403 0.90095415 0.92793211 0.948535   0.93333615\n",
            " 0.91746179 0.92544119 0.91771511 0.9483239  0.94064004 0.96635143\n",
            " 0.9563033  0.96491598 0.83551657 0.83950454 0.84185338 0.84251291\n",
            " 0.84161484 0.83938968]\n",
            "6 day output [[0.8361033]]\n",
            "7 day input [0.66089673 0.65515494 0.70970193 0.66452757 0.69437642 0.69218104\n",
            " 0.63569197 0.65266402 0.63780292 0.7267162  0.71388162 0.74191506\n",
            " 0.75002111 0.77222832 0.83049059 0.8194292  0.8289707  0.8125475\n",
            " 0.78776492 0.75162543 0.78426074 0.77974331 0.81326522 0.8141096\n",
            " 0.79473106 0.83336148 0.85898843 0.83901883 0.85628641 0.87486279\n",
            " 0.88782403 0.90095415 0.92793211 0.948535   0.93333615 0.91746179\n",
            " 0.92544119 0.91771511 0.9483239  0.94064004 0.96635143 0.9563033\n",
            " 0.96491598 0.83551657 0.83950454 0.84185338 0.84251291 0.84161484\n",
            " 0.83938968 0.83610332]\n",
            "7 day output [[0.8320197]]\n",
            "8 day input [0.65515494 0.70970193 0.66452757 0.69437642 0.69218104 0.63569197\n",
            " 0.65266402 0.63780292 0.7267162  0.71388162 0.74191506 0.75002111\n",
            " 0.77222832 0.83049059 0.8194292  0.8289707  0.8125475  0.78776492\n",
            " 0.75162543 0.78426074 0.77974331 0.81326522 0.8141096  0.79473106\n",
            " 0.83336148 0.85898843 0.83901883 0.85628641 0.87486279 0.88782403\n",
            " 0.90095415 0.92793211 0.948535   0.93333615 0.91746179 0.92544119\n",
            " 0.91771511 0.9483239  0.94064004 0.96635143 0.9563033  0.96491598\n",
            " 0.83551657 0.83950454 0.84185338 0.84251291 0.84161484 0.83938968\n",
            " 0.83610332 0.83201969]\n",
            "8 day output [[0.8273761]]\n",
            "9 day input [0.70970193 0.66452757 0.69437642 0.69218104 0.63569197 0.65266402\n",
            " 0.63780292 0.7267162  0.71388162 0.74191506 0.75002111 0.77222832\n",
            " 0.83049059 0.8194292  0.8289707  0.8125475  0.78776492 0.75162543\n",
            " 0.78426074 0.77974331 0.81326522 0.8141096  0.79473106 0.83336148\n",
            " 0.85898843 0.83901883 0.85628641 0.87486279 0.88782403 0.90095415\n",
            " 0.92793211 0.948535   0.93333615 0.91746179 0.92544119 0.91771511\n",
            " 0.9483239  0.94064004 0.96635143 0.9563033  0.96491598 0.83551657\n",
            " 0.83950454 0.84185338 0.84251291 0.84161484 0.83938968 0.83610332\n",
            " 0.83201969 0.82737613]\n",
            "9 day output [[0.82237035]]\n",
            "10 day input [0.66452757 0.69437642 0.69218104 0.63569197 0.65266402 0.63780292\n",
            " 0.7267162  0.71388162 0.74191506 0.75002111 0.77222832 0.83049059\n",
            " 0.8194292  0.8289707  0.8125475  0.78776492 0.75162543 0.78426074\n",
            " 0.77974331 0.81326522 0.8141096  0.79473106 0.83336148 0.85898843\n",
            " 0.83901883 0.85628641 0.87486279 0.88782403 0.90095415 0.92793211\n",
            " 0.948535   0.93333615 0.91746179 0.92544119 0.91771511 0.9483239\n",
            " 0.94064004 0.96635143 0.9563033  0.96491598 0.83551657 0.83950454\n",
            " 0.84185338 0.84251291 0.84161484 0.83938968 0.83610332 0.83201969\n",
            " 0.82737613 0.82237035]\n",
            "10 day output [[0.81716174]]\n",
            "11 day input [0.69437642 0.69218104 0.63569197 0.65266402 0.63780292 0.7267162\n",
            " 0.71388162 0.74191506 0.75002111 0.77222832 0.83049059 0.8194292\n",
            " 0.8289707  0.8125475  0.78776492 0.75162543 0.78426074 0.77974331\n",
            " 0.81326522 0.8141096  0.79473106 0.83336148 0.85898843 0.83901883\n",
            " 0.85628641 0.87486279 0.88782403 0.90095415 0.92793211 0.948535\n",
            " 0.93333615 0.91746179 0.92544119 0.91771511 0.9483239  0.94064004\n",
            " 0.96635143 0.9563033  0.96491598 0.83551657 0.83950454 0.84185338\n",
            " 0.84251291 0.84161484 0.83938968 0.83610332 0.83201969 0.82737613\n",
            " 0.82237035 0.81716174]\n",
            "11 day output [[0.8118694]]\n",
            "12 day input [0.69218104 0.63569197 0.65266402 0.63780292 0.7267162  0.71388162\n",
            " 0.74191506 0.75002111 0.77222832 0.83049059 0.8194292  0.8289707\n",
            " 0.8125475  0.78776492 0.75162543 0.78426074 0.77974331 0.81326522\n",
            " 0.8141096  0.79473106 0.83336148 0.85898843 0.83901883 0.85628641\n",
            " 0.87486279 0.88782403 0.90095415 0.92793211 0.948535   0.93333615\n",
            " 0.91746179 0.92544119 0.91771511 0.9483239  0.94064004 0.96635143\n",
            " 0.9563033  0.96491598 0.83551657 0.83950454 0.84185338 0.84251291\n",
            " 0.84161484 0.83938968 0.83610332 0.83201969 0.82737613 0.82237035\n",
            " 0.81716174 0.81186938]\n",
            "12 day output [[0.80658096]]\n",
            "13 day input [0.63569197 0.65266402 0.63780292 0.7267162  0.71388162 0.74191506\n",
            " 0.75002111 0.77222832 0.83049059 0.8194292  0.8289707  0.8125475\n",
            " 0.78776492 0.75162543 0.78426074 0.77974331 0.81326522 0.8141096\n",
            " 0.79473106 0.83336148 0.85898843 0.83901883 0.85628641 0.87486279\n",
            " 0.88782403 0.90095415 0.92793211 0.948535   0.93333615 0.91746179\n",
            " 0.92544119 0.91771511 0.9483239  0.94064004 0.96635143 0.9563033\n",
            " 0.96491598 0.83551657 0.83950454 0.84185338 0.84251291 0.84161484\n",
            " 0.83938968 0.83610332 0.83201969 0.82737613 0.82237035 0.81716174\n",
            " 0.81186938 0.80658096]\n",
            "13 day output [[0.801355]]\n",
            "14 day input [0.65266402 0.63780292 0.7267162  0.71388162 0.74191506 0.75002111\n",
            " 0.77222832 0.83049059 0.8194292  0.8289707  0.8125475  0.78776492\n",
            " 0.75162543 0.78426074 0.77974331 0.81326522 0.8141096  0.79473106\n",
            " 0.83336148 0.85898843 0.83901883 0.85628641 0.87486279 0.88782403\n",
            " 0.90095415 0.92793211 0.948535   0.93333615 0.91746179 0.92544119\n",
            " 0.91771511 0.9483239  0.94064004 0.96635143 0.9563033  0.96491598\n",
            " 0.83551657 0.83950454 0.84185338 0.84251291 0.84161484 0.83938968\n",
            " 0.83610332 0.83201969 0.82737613 0.82237035 0.81716174 0.81186938\n",
            " 0.80658096 0.801355  ]\n",
            "14 day output [[0.7962284]]\n",
            "15 day input [0.63780292 0.7267162  0.71388162 0.74191506 0.75002111 0.77222832\n",
            " 0.83049059 0.8194292  0.8289707  0.8125475  0.78776492 0.75162543\n",
            " 0.78426074 0.77974331 0.81326522 0.8141096  0.79473106 0.83336148\n",
            " 0.85898843 0.83901883 0.85628641 0.87486279 0.88782403 0.90095415\n",
            " 0.92793211 0.948535   0.93333615 0.91746179 0.92544119 0.91771511\n",
            " 0.9483239  0.94064004 0.96635143 0.9563033  0.96491598 0.83551657\n",
            " 0.83950454 0.84185338 0.84251291 0.84161484 0.83938968 0.83610332\n",
            " 0.83201969 0.82737613 0.82237035 0.81716174 0.81186938 0.80658096\n",
            " 0.801355   0.79622841]\n",
            "15 day output [[0.79122424]]\n",
            "16 day input [0.7267162  0.71388162 0.74191506 0.75002111 0.77222832 0.83049059\n",
            " 0.8194292  0.8289707  0.8125475  0.78776492 0.75162543 0.78426074\n",
            " 0.77974331 0.81326522 0.8141096  0.79473106 0.83336148 0.85898843\n",
            " 0.83901883 0.85628641 0.87486279 0.88782403 0.90095415 0.92793211\n",
            " 0.948535   0.93333615 0.91746179 0.92544119 0.91771511 0.9483239\n",
            " 0.94064004 0.96635143 0.9563033  0.96491598 0.83551657 0.83950454\n",
            " 0.84185338 0.84251291 0.84161484 0.83938968 0.83610332 0.83201969\n",
            " 0.82737613 0.82237035 0.81716174 0.81186938 0.80658096 0.801355\n",
            " 0.79622841 0.79122424]\n",
            "16 day output [[0.7863522]]\n",
            "17 day input [0.71388162 0.74191506 0.75002111 0.77222832 0.83049059 0.8194292\n",
            " 0.8289707  0.8125475  0.78776492 0.75162543 0.78426074 0.77974331\n",
            " 0.81326522 0.8141096  0.79473106 0.83336148 0.85898843 0.83901883\n",
            " 0.85628641 0.87486279 0.88782403 0.90095415 0.92793211 0.948535\n",
            " 0.93333615 0.91746179 0.92544119 0.91771511 0.9483239  0.94064004\n",
            " 0.96635143 0.9563033  0.96491598 0.83551657 0.83950454 0.84185338\n",
            " 0.84251291 0.84161484 0.83938968 0.83610332 0.83201969 0.82737613\n",
            " 0.82237035 0.81716174 0.81186938 0.80658096 0.801355   0.79622841\n",
            " 0.79122424 0.78635222]\n",
            "17 day output [[0.7816157]]\n",
            "18 day input [0.74191506 0.75002111 0.77222832 0.83049059 0.8194292  0.8289707\n",
            " 0.8125475  0.78776492 0.75162543 0.78426074 0.77974331 0.81326522\n",
            " 0.8141096  0.79473106 0.83336148 0.85898843 0.83901883 0.85628641\n",
            " 0.87486279 0.88782403 0.90095415 0.92793211 0.948535   0.93333615\n",
            " 0.91746179 0.92544119 0.91771511 0.9483239  0.94064004 0.96635143\n",
            " 0.9563033  0.96491598 0.83551657 0.83950454 0.84185338 0.84251291\n",
            " 0.84161484 0.83938968 0.83610332 0.83201969 0.82737613 0.82237035\n",
            " 0.81716174 0.81186938 0.80658096 0.801355   0.79622841 0.79122424\n",
            " 0.78635222 0.78161567]\n",
            "18 day output [[0.77701163]]\n",
            "19 day input [0.75002111 0.77222832 0.83049059 0.8194292  0.8289707  0.8125475\n",
            " 0.78776492 0.75162543 0.78426074 0.77974331 0.81326522 0.8141096\n",
            " 0.79473106 0.83336148 0.85898843 0.83901883 0.85628641 0.87486279\n",
            " 0.88782403 0.90095415 0.92793211 0.948535   0.93333615 0.91746179\n",
            " 0.92544119 0.91771511 0.9483239  0.94064004 0.96635143 0.9563033\n",
            " 0.96491598 0.83551657 0.83950454 0.84185338 0.84251291 0.84161484\n",
            " 0.83938968 0.83610332 0.83201969 0.82737613 0.82237035 0.81716174\n",
            " 0.81186938 0.80658096 0.801355   0.79622841 0.79122424 0.78635222\n",
            " 0.78161567 0.77701163]\n",
            "19 day output [[0.7725351]]\n",
            "20 day input [0.77222832 0.83049059 0.8194292  0.8289707  0.8125475  0.78776492\n",
            " 0.75162543 0.78426074 0.77974331 0.81326522 0.8141096  0.79473106\n",
            " 0.83336148 0.85898843 0.83901883 0.85628641 0.87486279 0.88782403\n",
            " 0.90095415 0.92793211 0.948535   0.93333615 0.91746179 0.92544119\n",
            " 0.91771511 0.9483239  0.94064004 0.96635143 0.9563033  0.96491598\n",
            " 0.83551657 0.83950454 0.84185338 0.84251291 0.84161484 0.83938968\n",
            " 0.83610332 0.83201969 0.82737613 0.82237035 0.81716174 0.81186938\n",
            " 0.80658096 0.801355   0.79622841 0.79122424 0.78635222 0.78161567\n",
            " 0.77701163 0.77253509]\n",
            "20 day output [[0.7681805]]\n",
            "21 day input [0.83049059 0.8194292  0.8289707  0.8125475  0.78776492 0.75162543\n",
            " 0.78426074 0.77974331 0.81326522 0.8141096  0.79473106 0.83336148\n",
            " 0.85898843 0.83901883 0.85628641 0.87486279 0.88782403 0.90095415\n",
            " 0.92793211 0.948535   0.93333615 0.91746179 0.92544119 0.91771511\n",
            " 0.9483239  0.94064004 0.96635143 0.9563033  0.96491598 0.83551657\n",
            " 0.83950454 0.84185338 0.84251291 0.84161484 0.83938968 0.83610332\n",
            " 0.83201969 0.82737613 0.82237035 0.81716174 0.81186938 0.80658096\n",
            " 0.801355   0.79622841 0.79122424 0.78635222 0.78161567 0.77701163\n",
            " 0.77253509 0.76818049]\n",
            "21 day output [[0.76394105]]\n",
            "22 day input [0.8194292  0.8289707  0.8125475  0.78776492 0.75162543 0.78426074\n",
            " 0.77974331 0.81326522 0.8141096  0.79473106 0.83336148 0.85898843\n",
            " 0.83901883 0.85628641 0.87486279 0.88782403 0.90095415 0.92793211\n",
            " 0.948535   0.93333615 0.91746179 0.92544119 0.91771511 0.9483239\n",
            " 0.94064004 0.96635143 0.9563033  0.96491598 0.83551657 0.83950454\n",
            " 0.84185338 0.84251291 0.84161484 0.83938968 0.83610332 0.83201969\n",
            " 0.82737613 0.82237035 0.81716174 0.81186938 0.80658096 0.801355\n",
            " 0.79622841 0.79122424 0.78635222 0.78161567 0.77701163 0.77253509\n",
            " 0.76818049 0.76394105]\n",
            "22 day output [[0.75981134]]\n",
            "23 day input [0.8289707  0.8125475  0.78776492 0.75162543 0.78426074 0.77974331\n",
            " 0.81326522 0.8141096  0.79473106 0.83336148 0.85898843 0.83901883\n",
            " 0.85628641 0.87486279 0.88782403 0.90095415 0.92793211 0.948535\n",
            " 0.93333615 0.91746179 0.92544119 0.91771511 0.9483239  0.94064004\n",
            " 0.96635143 0.9563033  0.96491598 0.83551657 0.83950454 0.84185338\n",
            " 0.84251291 0.84161484 0.83938968 0.83610332 0.83201969 0.82737613\n",
            " 0.82237035 0.81716174 0.81186938 0.80658096 0.801355   0.79622841\n",
            " 0.79122424 0.78635222 0.78161567 0.77701163 0.77253509 0.76818049\n",
            " 0.76394105 0.75981134]\n",
            "23 day output [[0.7557844]]\n",
            "24 day input [0.8125475  0.78776492 0.75162543 0.78426074 0.77974331 0.81326522\n",
            " 0.8141096  0.79473106 0.83336148 0.85898843 0.83901883 0.85628641\n",
            " 0.87486279 0.88782403 0.90095415 0.92793211 0.948535   0.93333615\n",
            " 0.91746179 0.92544119 0.91771511 0.9483239  0.94064004 0.96635143\n",
            " 0.9563033  0.96491598 0.83551657 0.83950454 0.84185338 0.84251291\n",
            " 0.84161484 0.83938968 0.83610332 0.83201969 0.82737613 0.82237035\n",
            " 0.81716174 0.81186938 0.80658096 0.801355   0.79622841 0.79122424\n",
            " 0.78635222 0.78161567 0.77701163 0.77253509 0.76818049 0.76394105\n",
            " 0.75981134 0.75578439]\n",
            "24 day output [[0.75185525]]\n",
            "25 day input [0.78776492 0.75162543 0.78426074 0.77974331 0.81326522 0.8141096\n",
            " 0.79473106 0.83336148 0.85898843 0.83901883 0.85628641 0.87486279\n",
            " 0.88782403 0.90095415 0.92793211 0.948535   0.93333615 0.91746179\n",
            " 0.92544119 0.91771511 0.9483239  0.94064004 0.96635143 0.9563033\n",
            " 0.96491598 0.83551657 0.83950454 0.84185338 0.84251291 0.84161484\n",
            " 0.83938968 0.83610332 0.83201969 0.82737613 0.82237035 0.81716174\n",
            " 0.81186938 0.80658096 0.801355   0.79622841 0.79122424 0.78635222\n",
            " 0.78161567 0.77701163 0.77253509 0.76818049 0.76394105 0.75981134\n",
            " 0.75578439 0.75185525]\n",
            "25 day output [[0.74801916]]\n",
            "26 day input [0.75162543 0.78426074 0.77974331 0.81326522 0.8141096  0.79473106\n",
            " 0.83336148 0.85898843 0.83901883 0.85628641 0.87486279 0.88782403\n",
            " 0.90095415 0.92793211 0.948535   0.93333615 0.91746179 0.92544119\n",
            " 0.91771511 0.9483239  0.94064004 0.96635143 0.9563033  0.96491598\n",
            " 0.83551657 0.83950454 0.84185338 0.84251291 0.84161484 0.83938968\n",
            " 0.83610332 0.83201969 0.82737613 0.82237035 0.81716174 0.81186938\n",
            " 0.80658096 0.801355   0.79622841 0.79122424 0.78635222 0.78161567\n",
            " 0.77701163 0.77253509 0.76818049 0.76394105 0.75981134 0.75578439\n",
            " 0.75185525 0.74801916]\n",
            "26 day output [[0.7442725]]\n",
            "27 day input [0.78426074 0.77974331 0.81326522 0.8141096  0.79473106 0.83336148\n",
            " 0.85898843 0.83901883 0.85628641 0.87486279 0.88782403 0.90095415\n",
            " 0.92793211 0.948535   0.93333615 0.91746179 0.92544119 0.91771511\n",
            " 0.9483239  0.94064004 0.96635143 0.9563033  0.96491598 0.83551657\n",
            " 0.83950454 0.84185338 0.84251291 0.84161484 0.83938968 0.83610332\n",
            " 0.83201969 0.82737613 0.82237035 0.81716174 0.81186938 0.80658096\n",
            " 0.801355   0.79622841 0.79122424 0.78635222 0.78161567 0.77701163\n",
            " 0.77253509 0.76818049 0.76394105 0.75981134 0.75578439 0.75185525\n",
            " 0.74801916 0.74427247]\n",
            "27 day output [[0.74061126]]\n",
            "28 day input [0.77974331 0.81326522 0.8141096  0.79473106 0.83336148 0.85898843\n",
            " 0.83901883 0.85628641 0.87486279 0.88782403 0.90095415 0.92793211\n",
            " 0.948535   0.93333615 0.91746179 0.92544119 0.91771511 0.9483239\n",
            " 0.94064004 0.96635143 0.9563033  0.96491598 0.83551657 0.83950454\n",
            " 0.84185338 0.84251291 0.84161484 0.83938968 0.83610332 0.83201969\n",
            " 0.82737613 0.82237035 0.81716174 0.81186938 0.80658096 0.801355\n",
            " 0.79622841 0.79122424 0.78635222 0.78161567 0.77701163 0.77253509\n",
            " 0.76818049 0.76394105 0.75981134 0.75578439 0.75185525 0.74801916\n",
            " 0.74427247 0.74061126]\n",
            "28 day output [[0.73703384]]\n",
            "29 day input [0.81326522 0.8141096  0.79473106 0.83336148 0.85898843 0.83901883\n",
            " 0.85628641 0.87486279 0.88782403 0.90095415 0.92793211 0.948535\n",
            " 0.93333615 0.91746179 0.92544119 0.91771511 0.9483239  0.94064004\n",
            " 0.96635143 0.9563033  0.96491598 0.83551657 0.83950454 0.84185338\n",
            " 0.84251291 0.84161484 0.83938968 0.83610332 0.83201969 0.82737613\n",
            " 0.82237035 0.81716174 0.81186938 0.80658096 0.801355   0.79622841\n",
            " 0.79122424 0.78635222 0.78161567 0.77701163 0.77253509 0.76818049\n",
            " 0.76394105 0.75981134 0.75578439 0.75185525 0.74801916 0.74427247\n",
            " 0.74061126 0.73703384]\n",
            "29 day output [[0.733536]]\n",
            "[[0.8355165719985962], [0.8395045399665833], [0.8418533802032471], [0.8425129055976868], [0.841614842414856], [0.8393896818161011], [0.8361033201217651], [0.8320196866989136], [0.827376127243042], [0.8223703503608704], [0.8171617388725281], [0.8118693828582764], [0.8065809607505798], [0.8013550043106079], [0.7962284088134766], [0.7912242412567139], [0.7863522171974182], [0.781615674495697], [0.7770116329193115], [0.7725350856781006], [0.7681804895401001], [0.7639410495758057], [0.7598113417625427], [0.7557843923568726], [0.7518552541732788], [0.7480191588401794], [0.7442724704742432], [0.7406112551689148], [0.7370338439941406], [0.7335360050201416]]\n"
          ]
        }
      ]
    },
    {
      "cell_type": "markdown",
      "metadata": {
        "id": "G7LKEAAycXM8"
      },
      "source": [
        "**Predicting next 30 days market**"
      ]
    },
    {
      "cell_type": "code",
      "metadata": {
        "id": "5-c3fGG_cdz4"
      },
      "source": [
        "day_new = np.arange(1,51)\n",
        "day_pred = np.arange(51,81)"
      ],
      "execution_count": 29,
      "outputs": []
    },
    {
      "cell_type": "code",
      "metadata": {
        "colab": {
          "base_uri": "https://localhost:8080/",
          "height": 282
        },
        "id": "EhPsdcbrcmN7",
        "outputId": "b5b1aed6-99ee-4d77-b7ad-e3da8ec02c4b"
      },
      "source": [
        "plt.plot(day_new,scaler.inverse_transform(df1[1208:]))\n",
        "plt.plot(day_pred,scaler.inverse_transform(lst_output))"
      ],
      "execution_count": 30,
      "outputs": [
        {
          "output_type": "execute_result",
          "data": {
            "text/plain": [
              "[<matplotlib.lines.Line2D at 0x7f01fc59ffd0>]"
            ]
          },
          "metadata": {},
          "execution_count": 30
        },
        {
          "output_type": "display_data",
          "data": {
            "image/png": "[encoded data removed]",
            "text/plain": [
              "<Figure size 432x288 with 1 Axes>"
            ]
          },
          "metadata": {
            "needs_background": "light"
          }
        }
      ]
    },
    {
      "cell_type": "code",
      "metadata": {
        "colab": {
          "base_uri": "https://localhost:8080/",
          "height": 282
        },
        "id": "dtG4r0B4c7cN",
        "outputId": "c46c7206-60b3-4254-ec90-616aa0d7d484"
      },
      "source": [
        "df3 = df1.tolist()\n",
        "df3.extend(lst_output)\n",
        "plt.plot(df3[1208:])"
      ],
      "execution_count": 31,
      "outputs": [
        {
          "output_type": "execute_result",
          "data": {
            "text/plain": [
              "[<matplotlib.lines.Line2D at 0x7f01fc55a110>]"
            ]
          },
          "metadata": {},
          "execution_count": 31
        },
        {
          "output_type": "display_data",
          "data": {
            "image/png": "[encoded data removed]",
            "text/plain": [
              "<Figure size 432x288 with 1 Axes>"
            ]
          },
          "metadata": {
            "needs_background": "light"
          }
        }
      ]
    },
    {
      "cell_type": "code",
      "metadata": {
        "colab": {
          "base_uri": "https://localhost:8080/",
          "height": 282
        },
        "id": "XT9NJLH3dLnr",
        "outputId": "0f23b27b-6f7a-4134-9a5f-3790ef49f5fa"
      },
      "source": [
        "df3=scaler.inverse_transform(df3).tolist()\n",
        "plt.plot(df3)"
      ],
      "execution_count": 32,
      "outputs": [
        {
          "output_type": "execute_result",
          "data": {
            "text/plain": [
              "[<matplotlib.lines.Line2D at 0x7f01fc5d7fd0>]"
            ]
          },
          "metadata": {},
          "execution_count": 32
        },
        {
          "output_type": "display_data",
          "data": {
            "image/png": "[encoded data removed]",
            "text/plain": [
              "<Figure size 432x288 with 1 Axes>"
            ]
          },
          "metadata": {
            "needs_background": "light"
          }
        }
      ]
    }
  ]
}